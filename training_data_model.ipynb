{
 "cells": [
  {
   "cell_type": "code",
   "execution_count": 1,
   "metadata": {},
   "outputs": [],
   "source": [
    "import numpy as np \n",
    "import pandas as pd \n",
    "import pymongo\n",
    "from pymongo import MongoClient\n",
    "from subprocess import check_output"
   ]
  },
  {
   "cell_type": "code",
   "execution_count": 2,
   "metadata": {},
   "outputs": [
    {
     "name": "stdout",
     "output_type": "stream",
     "text": [
      "connect to mongoDB\n"
     ]
    },
    {
     "data": {
      "text/html": [
       "<div>\n",
       "<style scoped>\n",
       "    .dataframe tbody tr th:only-of-type {\n",
       "        vertical-align: middle;\n",
       "    }\n",
       "\n",
       "    .dataframe tbody tr th {\n",
       "        vertical-align: top;\n",
       "    }\n",
       "\n",
       "    .dataframe thead th {\n",
       "        text-align: right;\n",
       "    }\n",
       "</style>\n",
       "<table border=\"1\" class=\"dataframe\">\n",
       "  <thead>\n",
       "    <tr style=\"text-align: right;\">\n",
       "      <th></th>\n",
       "      <th>_id</th>\n",
       "      <th>Text</th>\n",
       "      <th>date</th>\n",
       "      <th>Location</th>\n",
       "      <th>User_followers</th>\n",
       "      <th>favourites_count</th>\n",
       "      <th>retweet_count</th>\n",
       "      <th>Verified User</th>\n",
       "    </tr>\n",
       "  </thead>\n",
       "  <tbody>\n",
       "    <tr>\n",
       "      <th>0</th>\n",
       "      <td>6005372e28cba40ce364d0bc</td>\n",
       "      <td>Ajith Starrer Valimai Is Expected To Create ...</td>\n",
       "      <td>2021-01-14</td>\n",
       "      <td>Twitter</td>\n",
       "      <td>91</td>\n",
       "      <td>4154</td>\n",
       "      <td>0</td>\n",
       "      <td>False</td>\n",
       "    </tr>\n",
       "    <tr>\n",
       "      <th>1</th>\n",
       "      <td>6005372e28cba40ce364d0bd</td>\n",
       "      <td>Powerful edit</td>\n",
       "      <td>2021-01-14</td>\n",
       "      <td>Aurangabad, India</td>\n",
       "      <td>803</td>\n",
       "      <td>12989</td>\n",
       "      <td>0</td>\n",
       "      <td>False</td>\n",
       "    </tr>\n",
       "    <tr>\n",
       "      <th>2</th>\n",
       "      <td>6005372e28cba40ce364d0be</td>\n",
       "      <td>watch it 👀\\nplease like 👍, share and do subscr...</td>\n",
       "      <td>2021-01-14</td>\n",
       "      <td>Bengaluru, India</td>\n",
       "      <td>25</td>\n",
       "      <td>67</td>\n",
       "      <td>0</td>\n",
       "      <td>False</td>\n",
       "    </tr>\n",
       "    <tr>\n",
       "      <th>3</th>\n",
       "      <td>6005372e28cba40ce364d0bf</td>\n",
       "      <td>Cigarette scene Is  starrer KGF 2 in trouble? ...</td>\n",
       "      <td>2021-01-14</td>\n",
       "      <td>Mumbai, India</td>\n",
       "      <td>10124</td>\n",
       "      <td>9125</td>\n",
       "      <td>0</td>\n",
       "      <td>False</td>\n",
       "    </tr>\n",
       "    <tr>\n",
       "      <th>4</th>\n",
       "      <td>6005372e28cba40ce364d0c0</td>\n",
       "      <td>Then how can this be possible...\\n</td>\n",
       "      <td>2021-01-14</td>\n",
       "      <td>unknown</td>\n",
       "      <td>1404</td>\n",
       "      <td>17010</td>\n",
       "      <td>0</td>\n",
       "      <td>False</td>\n",
       "    </tr>\n",
       "  </tbody>\n",
       "</table>\n",
       "</div>"
      ],
      "text/plain": [
       "                        _id  \\\n",
       "0  6005372e28cba40ce364d0bc   \n",
       "1  6005372e28cba40ce364d0bd   \n",
       "2  6005372e28cba40ce364d0be   \n",
       "3  6005372e28cba40ce364d0bf   \n",
       "4  6005372e28cba40ce364d0c0   \n",
       "\n",
       "                                                Text        date  \\\n",
       "0    Ajith Starrer Valimai Is Expected To Create ...  2021-01-14   \n",
       "1                                      Powerful edit  2021-01-14   \n",
       "2  watch it 👀\\nplease like 👍, share and do subscr...  2021-01-14   \n",
       "3  Cigarette scene Is  starrer KGF 2 in trouble? ...  2021-01-14   \n",
       "4                 Then how can this be possible...\\n  2021-01-14   \n",
       "\n",
       "            Location  User_followers  favourites_count  retweet_count  \\\n",
       "0            Twitter              91              4154              0   \n",
       "1  Aurangabad, India             803             12989              0   \n",
       "2   Bengaluru, India              25                67              0   \n",
       "3      Mumbai, India           10124              9125              0   \n",
       "4            unknown            1404             17010              0   \n",
       "\n",
       "   Verified User  \n",
       "0          False  \n",
       "1          False  \n",
       "2          False  \n",
       "3          False  \n",
       "4          False  "
      ]
     },
     "execution_count": 2,
     "metadata": {},
     "output_type": "execute_result"
    }
   ],
   "source": [
    "connection = pymongo.MongoClient(\"localhost\",27017)\n",
    "db = connection[\"Sample2\"]\n",
    "collection = db[\"Data\"]\n",
    "print(\"connect to mongoDB\")\n",
    "tweets = pd.DataFrame(collection.find())\n",
    "#df.to_csv('file1.csv')\n",
    "tweets.head()"
   ]
  },
  {
   "cell_type": "code",
   "execution_count": 3,
   "metadata": {},
   "outputs": [
    {
     "data": {
      "text/html": [
       "<div>\n",
       "<style scoped>\n",
       "    .dataframe tbody tr th:only-of-type {\n",
       "        vertical-align: middle;\n",
       "    }\n",
       "\n",
       "    .dataframe tbody tr th {\n",
       "        vertical-align: top;\n",
       "    }\n",
       "\n",
       "    .dataframe thead th {\n",
       "        text-align: right;\n",
       "    }\n",
       "</style>\n",
       "<table border=\"1\" class=\"dataframe\">\n",
       "  <thead>\n",
       "    <tr style=\"text-align: right;\">\n",
       "      <th></th>\n",
       "      <th>_id</th>\n",
       "      <th>Text</th>\n",
       "    </tr>\n",
       "  </thead>\n",
       "  <tbody>\n",
       "    <tr>\n",
       "      <th>3800</th>\n",
       "      <td>6005372e28cba40ce364df94</td>\n",
       "      <td>Monday 10Am \\nSomething posting Be Ready Guy...</td>\n",
       "    </tr>\n",
       "    <tr>\n",
       "      <th>3801</th>\n",
       "      <td>6005372e28cba40ce364df95</td>\n",
       "      <td>OMG! 😱🤩 kgf2  Star Yash   🤩 and Baahubali  in ...</td>\n",
       "    </tr>\n",
       "    <tr>\n",
       "      <th>3802</th>\n",
       "      <td>6005372e28cba40ce364df96</td>\n",
       "      <td>\"When Pan Indian films like Master, KGF, Baa...</td>\n",
       "    </tr>\n",
       "    <tr>\n",
       "      <th>3803</th>\n",
       "      <td>6005372e28cba40ce364df97</td>\n",
       "      <td>BAHUBALI 2 trailer 11 cr views in 3 YEARS RR...</td>\n",
       "    </tr>\n",
       "    <tr>\n",
       "      <th>3804</th>\n",
       "      <td>6005372e28cba40ce364df98</td>\n",
       "      <td>Frames of Prabhas and Rocking Star  at Salaa...</td>\n",
       "    </tr>\n",
       "  </tbody>\n",
       "</table>\n",
       "</div>"
      ],
      "text/plain": [
       "                           _id  \\\n",
       "3800  6005372e28cba40ce364df94   \n",
       "3801  6005372e28cba40ce364df95   \n",
       "3802  6005372e28cba40ce364df96   \n",
       "3803  6005372e28cba40ce364df97   \n",
       "3804  6005372e28cba40ce364df98   \n",
       "\n",
       "                                                   Text  \n",
       "3800    Monday 10Am \\nSomething posting Be Ready Guy...  \n",
       "3801  OMG! 😱🤩 kgf2  Star Yash   🤩 and Baahubali  in ...  \n",
       "3802    \"When Pan Indian films like Master, KGF, Baa...  \n",
       "3803    BAHUBALI 2 trailer 11 cr views in 3 YEARS RR...  \n",
       "3804    Frames of Prabhas and Rocking Star  at Salaa...  "
      ]
     },
     "execution_count": 3,
     "metadata": {},
     "output_type": "execute_result"
    }
   ],
   "source": [
    "tweets=tweets.drop(columns=['date','Location','User_followers','favourites_count','retweet_count','Verified User'],axis=1)\n",
    "tweets.tail()"
   ]
  },
  {
   "cell_type": "code",
   "execution_count": 4,
   "metadata": {},
   "outputs": [
    {
     "name": "stdout",
     "output_type": "stream",
     "text": [
      "<class 'pandas.core.frame.DataFrame'>\n",
      "RangeIndex: 3805 entries, 0 to 3804\n",
      "Data columns (total 5 columns):\n",
      " #   Column                       Non-Null Count  Dtype  \n",
      "---  ------                       --------------  -----  \n",
      " 0   _id                          3805 non-null   object \n",
      " 1   Text                         3805 non-null   object \n",
      " 2   cleaned_text                 3805 non-null   object \n",
      " 3   sentiment_compound_polarity  3805 non-null   float64\n",
      " 4   sentiment_type               3805 non-null   object \n",
      "dtypes: float64(1), object(4)\n",
      "memory usage: 148.8+ KB\n"
     ]
    }
   ],
   "source": [
    "from nltk.sentiment.vader import SentimentIntensityAnalyzer\n",
    "from nltk.sentiment.util import *\n",
    "from nltk.corpus import stopwords\n",
    "stop_words = set(stopwords.words('english'))\n",
    "from nltk import tokenize\n",
    "import string\n",
    "\n",
    "sid = SentimentIntensityAnalyzer()\n",
    "\n",
    "tweets['cleaned_text'] = tweets.Text.apply(lambda x:x.lower())\n",
    "tweets['cleaned_text'] = tweets.Text.apply(lambda x:x.translate(str.maketrans('', '', string.punctuation)))   #Remove Punctuations\n",
    "\n",
    "\n",
    "tweets['sentiment_compound_polarity']=tweets.cleaned_text.apply(lambda x:sid.polarity_scores(x)['compound'])\n",
    "\n",
    "tweets['sentiment_type']=''\n",
    "tweets.loc[tweets.sentiment_compound_polarity>0,'sentiment_type']='POSITIVE'\n",
    "tweets.loc[tweets.sentiment_compound_polarity==0,'sentiment_type']='NEUTRAL'\n",
    "tweets.loc[tweets.sentiment_compound_polarity<0,'sentiment_type']='NEGATIVE'\n",
    "tweets.info()\n"
   ]
  },
  {
   "cell_type": "code",
   "execution_count": 7,
   "metadata": {},
   "outputs": [
    {
     "name": "stdout",
     "output_type": "stream",
     "text": [
      "this was not a good movie at all : NEGATIVE\n"
     ]
    }
   ],
   "source": [
    "#Check sentiment of a statement\n",
    "a=\"this was not a good movie at all\"\n",
    "b=sid.polarity_scores(a)\n",
    "if b['compound']>0:\n",
    "    sentiment_type=\"POSITIVE\"\n",
    "elif b['compound']>=0:\n",
    "    sentiment_type='POSITIVE'\n",
    "else:\n",
    "     sentiment_type='NEGATIVE'\n",
    "        \n",
    "print(a,\":\",sentiment_type)"
   ]
  },
  {
   "cell_type": "code",
   "execution_count": 8,
   "metadata": {},
   "outputs": [
    {
     "name": "stderr",
     "output_type": "stream",
     "text": [
      "[nltk_data] Downloading package vader_lexicon to\n",
      "[nltk_data]     C:\\Users\\HP\\AppData\\Roaming\\nltk_data...\n",
      "[nltk_data]   Package vader_lexicon is already up-to-date!\n"
     ]
    },
    {
     "data": {
      "text/plain": [
       "True"
      ]
     },
     "execution_count": 8,
     "metadata": {},
     "output_type": "execute_result"
    }
   ],
   "source": [
    "nltk.download('vader_lexicon')"
   ]
  },
  {
   "cell_type": "code",
   "execution_count": 9,
   "metadata": {},
   "outputs": [
    {
     "data": {
      "text/html": [
       "<div>\n",
       "<style scoped>\n",
       "    .dataframe tbody tr th:only-of-type {\n",
       "        vertical-align: middle;\n",
       "    }\n",
       "\n",
       "    .dataframe tbody tr th {\n",
       "        vertical-align: top;\n",
       "    }\n",
       "\n",
       "    .dataframe thead th {\n",
       "        text-align: right;\n",
       "    }\n",
       "</style>\n",
       "<table border=\"1\" class=\"dataframe\">\n",
       "  <thead>\n",
       "    <tr style=\"text-align: right;\">\n",
       "      <th></th>\n",
       "      <th>_id</th>\n",
       "      <th>Text</th>\n",
       "      <th>cleaned_text</th>\n",
       "      <th>sentiment_compound_polarity</th>\n",
       "      <th>sentiment_type</th>\n",
       "      <th>word count</th>\n",
       "    </tr>\n",
       "  </thead>\n",
       "  <tbody>\n",
       "    <tr>\n",
       "      <th>0</th>\n",
       "      <td>6005372e28cba40ce364d0bc</td>\n",
       "      <td>Ajith Starrer Valimai Is Expected To Create ...</td>\n",
       "      <td>Ajith Starrer Valimai Is Expected To Create ...</td>\n",
       "      <td>0.8807</td>\n",
       "      <td>POSITIVE</td>\n",
       "      <td>21</td>\n",
       "    </tr>\n",
       "    <tr>\n",
       "      <th>1</th>\n",
       "      <td>6005372e28cba40ce364d0bd</td>\n",
       "      <td>Powerful edit</td>\n",
       "      <td>Powerful edit</td>\n",
       "      <td>0.4215</td>\n",
       "      <td>POSITIVE</td>\n",
       "      <td>2</td>\n",
       "    </tr>\n",
       "    <tr>\n",
       "      <th>2</th>\n",
       "      <td>6005372e28cba40ce364d0be</td>\n",
       "      <td>watch it 👀\\nplease like 👍, share and do subscr...</td>\n",
       "      <td>watch it 👀\\nplease like 👍 share and do subscri...</td>\n",
       "      <td>0.8542</td>\n",
       "      <td>POSITIVE</td>\n",
       "      <td>18</td>\n",
       "    </tr>\n",
       "  </tbody>\n",
       "</table>\n",
       "</div>"
      ],
      "text/plain": [
       "                        _id  \\\n",
       "0  6005372e28cba40ce364d0bc   \n",
       "1  6005372e28cba40ce364d0bd   \n",
       "2  6005372e28cba40ce364d0be   \n",
       "\n",
       "                                                Text  \\\n",
       "0    Ajith Starrer Valimai Is Expected To Create ...   \n",
       "1                                      Powerful edit   \n",
       "2  watch it 👀\\nplease like 👍, share and do subscr...   \n",
       "\n",
       "                                        cleaned_text  \\\n",
       "0    Ajith Starrer Valimai Is Expected To Create ...   \n",
       "1                                      Powerful edit   \n",
       "2  watch it 👀\\nplease like 👍 share and do subscri...   \n",
       "\n",
       "   sentiment_compound_polarity sentiment_type  word count  \n",
       "0                       0.8807       POSITIVE          21  \n",
       "1                       0.4215       POSITIVE           2  \n",
       "2                       0.8542       POSITIVE          18  "
      ]
     },
     "execution_count": 9,
     "metadata": {},
     "output_type": "execute_result"
    }
   ],
   "source": [
    "# get a word count per sentence column\n",
    "def word_count(sentence):\n",
    "    return len(sentence.split())\n",
    "    \n",
    "tweets['word count'] = tweets['cleaned_text'].apply(word_count)\n",
    "tweets.head(3)"
   ]
  },
  {
   "cell_type": "code",
   "execution_count": 27,
   "metadata": {},
   "outputs": [
    {
     "data": {
      "text/plain": [
       "<matplotlib.legend.Legend at 0x296322a8160>"
      ]
     },
     "execution_count": 27,
     "metadata": {},
     "output_type": "execute_result"
    },
    {
     "data": {
      "image/png": "[encoded data removed]",
      "text/plain": [
       "<Figure size 864x432 with 1 Axes>"
      ]
     },
     "metadata": {
      "needs_background": "light"
     },
     "output_type": "display_data"
    }
   ],
   "source": [
    "import matplotlib.pyplot as plt\n",
    "x = tweets['word count'][tweets.sentiment_type == 'POSITIVE']\n",
    "y = tweets['word count'][tweets.sentiment_type == 'NEUTRAL']\n",
    "z = tweets['word count'][tweets.sentiment_type == 'NEGATIVE']\n",
    "plt.figure(figsize=(12,6))\n",
    "plt.xlim(0,30)\n",
    "plt.xlabel('word count')\n",
    "plt.ylabel('frequency')\n",
    "g = plt.hist([x, y, z], color=['green','black','red'], alpha=0.5, label=['POSITIVE','NEUTRAL','NEGATIVE'])\n",
    "plt.legend(loc='upper left')"
   ]
  },
  {
   "cell_type": "code",
   "execution_count": 32,
   "metadata": {},
   "outputs": [
    {
     "data": {
      "text/plain": [
       "<AxesSubplot:title={'center':'sentiment analysis'}, ylabel='sentiment_type'>"
      ]
     },
     "execution_count": 32,
     "metadata": {},
     "output_type": "execute_result"
    },
    {
     "data": {
      "image/png": "[encoded data removed]",
      "text/plain": [
       "<Figure size 432x432 with 1 Axes>"
      ]
     },
     "metadata": {},
     "output_type": "display_data"
    }
   ],
   "source": [
    "tweets.sentiment_type.value_counts().plot(kind='pie',title=\"sentiment analysis\",figsize=(6,6))\n"
   ]
  },
  {
   "cell_type": "code",
   "execution_count": 33,
   "metadata": {},
   "outputs": [
    {
     "data": {
      "text/plain": [
       "<AxesSubplot:title={'center':'sentiment analysis'}>"
      ]
     },
     "execution_count": 33,
     "metadata": {},
     "output_type": "execute_result"
    },
    {
     "data": {
      "image/png": "[encoded data removed]",
      "text/plain": [
       "<Figure size 432x432 with 1 Axes>"
      ]
     },
     "metadata": {
      "needs_background": "light"
     },
     "output_type": "display_data"
    }
   ],
   "source": [
    "tweets.sentiment_type.value_counts().plot(kind='bar',title=\"sentiment analysis\",figsize=(6,6))"
   ]
  },
  {
   "cell_type": "code",
   "execution_count": 34,
   "metadata": {},
   "outputs": [
    {
     "name": "stderr",
     "output_type": "stream",
     "text": [
      "[nltk_data] Downloading package stopwords to\n",
      "[nltk_data]     C:\\Users\\HP\\AppData\\Roaming\\nltk_data...\n",
      "[nltk_data]   Package stopwords is already up-to-date!\n",
      "[nltk_data] Downloading package punkt to\n",
      "[nltk_data]     C:\\Users\\HP\\AppData\\Roaming\\nltk_data...\n",
      "[nltk_data]   Package punkt is already up-to-date!\n",
      "[nltk_data] Downloading package wordnet to\n",
      "[nltk_data]     C:\\Users\\HP\\AppData\\Roaming\\nltk_data...\n",
      "[nltk_data]   Package wordnet is already up-to-date!\n"
     ]
    },
    {
     "data": {
      "text/plain": [
       "True"
      ]
     },
     "execution_count": 34,
     "metadata": {},
     "output_type": "execute_result"
    }
   ],
   "source": [
    "nltk.download('stopwords')\n",
    "nltk.download('punkt')\n",
    "nltk.download('wordnet')"
   ]
  },
  {
   "cell_type": "code",
   "execution_count": 35,
   "metadata": {},
   "outputs": [
    {
     "name": "stderr",
     "output_type": "stream",
     "text": [
      "[nltk_data] Downloading package stopwords to\n",
      "[nltk_data]     C:\\Users\\HP\\AppData\\Roaming\\nltk_data...\n",
      "[nltk_data]   Package stopwords is already up-to-date!\n"
     ]
    }
   ],
   "source": [
    "import re, nltk\n",
    "from nltk.stem import WordNetLemmatizer\n",
    "from nltk.corpus import stopwords\n",
    "stop_words = set(stopwords.words('english'))\n",
    "wordnet_lemmatizer = WordNetLemmatizer()\n",
    "import nltk\n",
    "nltk.download('stopwords')\n",
    "def normalizer(tweet):\n",
    "    only_letters = re.sub(\"[^a-zA-Z]\", \" \",tweet) \n",
    "    tokens = nltk.word_tokenize(only_letters)[2:]\n",
    "    lower_case = [l.lower() for l in tokens]\n",
    "    filtered_result = list(filter(lambda l: l not in stop_words, lower_case))\n",
    "    lemmas = [wordnet_lemmatizer.lemmatize(t) for t in filtered_result]\n",
    "    return lemmas"
   ]
  },
  {
   "cell_type": "code",
   "execution_count": 36,
   "metadata": {},
   "outputs": [
    {
     "data": {
      "text/plain": [
       "['excited', 'movie']"
      ]
     },
     "execution_count": 36,
     "metadata": {},
     "output_type": "execute_result"
    }
   ],
   "source": [
    "normalizer(\"I am so excited t thisabou Movie.\")"
   ]
  },
  {
   "cell_type": "code",
   "execution_count": 37,
   "metadata": {},
   "outputs": [
    {
     "name": "stderr",
     "output_type": "stream",
     "text": [
      "c:\\users\\hp\\appdata\\local\\programs\\python\\python37\\lib\\site-packages\\ipykernel_launcher.py:1: FutureWarning: Passing a negative integer is deprecated in version 1.0 and will not be supported in future version. Instead, use None to not limit the column width.\n",
      "  \"\"\"Entry point for launching an IPython kernel.\n"
     ]
    },
    {
     "data": {
      "text/html": [
       "<div>\n",
       "<style scoped>\n",
       "    .dataframe tbody tr th:only-of-type {\n",
       "        vertical-align: middle;\n",
       "    }\n",
       "\n",
       "    .dataframe tbody tr th {\n",
       "        vertical-align: top;\n",
       "    }\n",
       "\n",
       "    .dataframe thead th {\n",
       "        text-align: right;\n",
       "    }\n",
       "</style>\n",
       "<table border=\"1\" class=\"dataframe\">\n",
       "  <thead>\n",
       "    <tr style=\"text-align: right;\">\n",
       "      <th></th>\n",
       "      <th>Text</th>\n",
       "      <th>normalized_tweet</th>\n",
       "    </tr>\n",
       "  </thead>\n",
       "  <tbody>\n",
       "    <tr>\n",
       "      <th>0</th>\n",
       "      <td>Ajith Starrer Valimai Is Expected To Create The Same Impact That Kgf Created All Over India.\\n\\nVinoth Is Super Confident. T…</td>\n",
       "      <td>[valimai, expected, create, impact, kgf, created, india, vinoth, super, confident]</td>\n",
       "    </tr>\n",
       "    <tr>\n",
       "      <th>1</th>\n",
       "      <td>Powerful edit</td>\n",
       "      <td>[]</td>\n",
       "    </tr>\n",
       "    <tr>\n",
       "      <th>2</th>\n",
       "      <td>watch it 👀\\nplease like 👍, share and do subscribe for more videos YouTube Friends BestFriend KicchaSudeep KGF…</td>\n",
       "      <td>[please, like, share, subscribe, video, youtube, friend, bestfriend, kicchasudeep, kgf]</td>\n",
       "    </tr>\n",
       "    <tr>\n",
       "      <th>3</th>\n",
       "      <td>Cigarette scene Is  starrer KGF 2 in trouble? Follow Us on \\n\\n KGF2 KGF2cigarettescene…</td>\n",
       "      <td>[starrer, kgf, trouble, follow, u, kgf, kgf, cigarettescene]</td>\n",
       "    </tr>\n",
       "    <tr>\n",
       "      <th>4</th>\n",
       "      <td>Then how can this be possible...\\n</td>\n",
       "      <td>[possible]</td>\n",
       "    </tr>\n",
       "  </tbody>\n",
       "</table>\n",
       "</div>"
      ],
      "text/plain": [
       "                                                                                                                              Text  \\\n",
       "0    Ajith Starrer Valimai Is Expected To Create The Same Impact That Kgf Created All Over India.\\n\\nVinoth Is Super Confident. T…   \n",
       "1    Powerful edit                                                                                                                   \n",
       "2  watch it 👀\\nplease like 👍, share and do subscribe for more videos YouTube Friends BestFriend KicchaSudeep KGF…                    \n",
       "3  Cigarette scene Is  starrer KGF 2 in trouble? Follow Us on \\n\\n KGF2 KGF2cigarettescene…                                          \n",
       "4   Then how can this be possible...\\n                                                                                               \n",
       "\n",
       "                                                                          normalized_tweet  \n",
       "0  [valimai, expected, create, impact, kgf, created, india, vinoth, super, confident]       \n",
       "1  []                                                                                       \n",
       "2  [please, like, share, subscribe, video, youtube, friend, bestfriend, kicchasudeep, kgf]  \n",
       "3  [starrer, kgf, trouble, follow, u, kgf, kgf, cigarettescene]                             \n",
       "4  [possible]                                                                               "
      ]
     },
     "execution_count": 37,
     "metadata": {},
     "output_type": "execute_result"
    }
   ],
   "source": [
    "pd.set_option('display.max_colwidth', -1) # Setting this so we can see the full content of cells\n",
    "tweets['normalized_tweet'] = tweets.Text.apply(normalizer)\n",
    "tweets[['Text','normalized_tweet']].head()"
   ]
  },
  {
   "cell_type": "code",
   "execution_count": 48,
   "metadata": {},
   "outputs": [
    {
     "data": {
      "text/html": [
       "<div>\n",
       "<style scoped>\n",
       "    .dataframe tbody tr th:only-of-type {\n",
       "        vertical-align: middle;\n",
       "    }\n",
       "\n",
       "    .dataframe tbody tr th {\n",
       "        vertical-align: top;\n",
       "    }\n",
       "\n",
       "    .dataframe thead th {\n",
       "        text-align: right;\n",
       "    }\n",
       "</style>\n",
       "<table border=\"1\" class=\"dataframe\">\n",
       "  <thead>\n",
       "    <tr style=\"text-align: right;\">\n",
       "      <th></th>\n",
       "      <th>_id</th>\n",
       "      <th>Text</th>\n",
       "      <th>cleaned_text</th>\n",
       "      <th>sentiment_compound_polarity</th>\n",
       "      <th>sentiment_type</th>\n",
       "      <th>word count</th>\n",
       "      <th>normalized_tweet</th>\n",
       "    </tr>\n",
       "  </thead>\n",
       "  <tbody>\n",
       "    <tr>\n",
       "      <th>3804</th>\n",
       "      <td>6005372e28cba40ce364df98</td>\n",
       "      <td>Frames of Prabhas and Rocking Star  at Salaar launch ❤️\\n\\nSalaarSagaBegins 💥\\n\\n  Y…</td>\n",
       "      <td>Frames of Prabhas and Rocking Star  at Salaar launch ❤️\\n\\nSalaarSagaBegins 💥\\n\\n  Y…</td>\n",
       "      <td>0.0</td>\n",
       "      <td>NEUTRAL</td>\n",
       "      <td>13</td>\n",
       "      <td>[prabhas, rocking, star, salaar, launch, salaarsagabegins]</td>\n",
       "    </tr>\n",
       "  </tbody>\n",
       "</table>\n",
       "</div>"
      ],
      "text/plain": [
       "                           _id  \\\n",
       "3804  6005372e28cba40ce364df98   \n",
       "\n",
       "                                                                                         Text  \\\n",
       "3804    Frames of Prabhas and Rocking Star  at Salaar launch ❤️\\n\\nSalaarSagaBegins 💥\\n\\n  Y…   \n",
       "\n",
       "                                                                                 cleaned_text  \\\n",
       "3804    Frames of Prabhas and Rocking Star  at Salaar launch ❤️\\n\\nSalaarSagaBegins 💥\\n\\n  Y…   \n",
       "\n",
       "      sentiment_compound_polarity sentiment_type  word count  \\\n",
       "3804  0.0                          NEUTRAL        13           \n",
       "\n",
       "                                                normalized_tweet  \n",
       "3804  [prabhas, rocking, star, salaar, launch, salaarsagabegins]  "
      ]
     },
     "execution_count": 48,
     "metadata": {},
     "output_type": "execute_result"
    }
   ],
   "source": [
    "tweets.tail(1)"
   ]
  },
  {
   "cell_type": "code",
   "execution_count": 40,
   "metadata": {},
   "outputs": [],
   "source": [
    "import numpy as np\n",
    "from scipy.sparse import hstack\n",
    "from sklearn.feature_extraction.text import CountVectorizer\n",
    "count_vectorizer = CountVectorizer(analyzer='word',ngram_range=(2,2))"
   ]
  },
  {
   "cell_type": "code",
   "execution_count": 41,
   "metadata": {},
   "outputs": [],
   "source": [
    "vectorized_data = count_vectorizer.fit_transform(tweets.Text)\n",
    "indexed_data = hstack((np.array(range(0,vectorized_data.shape[0]))[:,None], vectorized_data))\n"
   ]
  },
  {
   "cell_type": "code",
   "execution_count": 42,
   "metadata": {},
   "outputs": [
    {
     "name": "stdout",
     "output_type": "stream",
     "text": [
      "<class 'scipy.sparse.csr.csr_matrix'>\n",
      "[8.55118687 8.55118687 8.14572176 ... 8.55118687 8.55118687 8.55118687]\n"
     ]
    }
   ],
   "source": [
    "##TFIDF\n",
    "from sklearn.feature_extraction.text import TfidfVectorizer\n",
    "vectorizer = TfidfVectorizer(analyzer='word',ngram_range=(2, 2))\n",
    "vectorizer.fit(tweets.Text)\n",
    "vector = vectorizer.transform(tweets.Text)\n",
    "#print(vector)\n",
    "print(type(vector))\n",
    "indexed_data = hstack((np.array(range(0,vector.shape[0]))[:,None], vector))\n",
    "print(vectorizer.idf_)"
   ]
  },
  {
   "cell_type": "code",
   "execution_count": 43,
   "metadata": {},
   "outputs": [],
   "source": [
    "def sentiment2target(sentiment):\n",
    "    return {\n",
    "        'NEGATIVE': 0,\n",
    "        'NEUTRAL': 1,\n",
    "        'POSITIVE' : 2\n",
    "    }[sentiment]\n",
    "targets = tweets.sentiment_type.apply(sentiment2target)\n"
   ]
  },
  {
   "cell_type": "code",
   "execution_count": 44,
   "metadata": {},
   "outputs": [],
   "source": [
    "from sklearn.model_selection import train_test_split\n",
    "data_train, data_test, targets_train, targets_test = train_test_split(indexed_data, targets, test_size=0.4, random_state=0)\n",
    "data_train_index = data_train[:,0]\n",
    "data_train = data_train[:,1:]\n",
    "data_test_index = data_test[:,0]\n",
    "data_test = data_test[:,1:]"
   ]
  },
  {
   "cell_type": "code",
   "execution_count": 45,
   "metadata": {},
   "outputs": [],
   "source": [
    "from sklearn import svm\n",
    "from sklearn.multiclass import OneVsRestClassifier\n",
    "clf = OneVsRestClassifier(svm.SVC(gamma=0.01, C=100., probability=True, class_weight='balanced', kernel='linear'))\n",
    "clf_output = clf.fit(data_train, targets_train)"
   ]
  },
  {
   "cell_type": "code",
   "execution_count": 49,
   "metadata": {},
   "outputs": [
    {
     "name": "stdout",
     "output_type": "stream",
     "text": [
      "[[227  30   0]\n",
      " [  1 594   0]\n",
      " [  1  60 609]]\n",
      "              precision    recall  f1-score   support\n",
      "\n",
      "           0       0.99      0.88      0.93       257\n",
      "           1       0.87      1.00      0.93       595\n",
      "           2       1.00      0.91      0.95       670\n",
      "\n",
      "    accuracy                           0.94      1522\n",
      "   macro avg       0.95      0.93      0.94      1522\n",
      "weighted avg       0.95      0.94      0.94      1522\n",
      "\n",
      "0.9395532194480947\n"
     ]
    }
   ],
   "source": [
    "from sklearn.metrics import classification_report, confusion_matrix, accuracy_score\n",
    "\n",
    "print(confusion_matrix(targets_test,predictions))\n",
    "print(classification_report(targets_test,predictions))\n",
    "print(accuracy_score(targets_test, predictions))"
   ]
  },
  {
   "cell_type": "code",
   "execution_count": 50,
   "metadata": {},
   "outputs": [
    {
     "data": {
      "text/plain": [
       "0.9395532194480947"
      ]
     },
     "execution_count": 50,
     "metadata": {},
     "output_type": "execute_result"
    }
   ],
   "source": [
    "clf.score(data_test, targets_test)"
   ]
  },
  {
   "cell_type": "code",
   "execution_count": 71,
   "metadata": {},
   "outputs": [
    {
     "data": {
      "text/plain": [
       "['SVM_model.pkl']"
      ]
     },
     "execution_count": 71,
     "metadata": {},
     "output_type": "execute_result"
    }
   ],
   "source": [
    "#Saving the model SVM\n",
    "from sklearn import externals\n",
    "import joblib\n",
    "# Save the model as a pickle in a file \n",
    "joblib.dump(clf, 'SVM_model.pkl') "
   ]
  },
  {
   "cell_type": "code",
   "execution_count": 72,
   "metadata": {},
   "outputs": [
    {
     "data": {
      "text/plain": [
       "array([1, 1, 1, ..., 0, 0, 2], dtype=int64)"
      ]
     },
     "execution_count": 72,
     "metadata": {},
     "output_type": "execute_result"
    }
   ],
   "source": [
    "# Load the model from the file \n",
    "knn_from_joblib = joblib.load('SVM_model.pkl')  \n",
    "  \n",
    "# Use the loaded model to make predictions \n",
    "knn_from_joblib.predict(data_test) "
   ]
  },
  {
   "cell_type": "code",
   "execution_count": 51,
   "metadata": {},
   "outputs": [
    {
     "data": {
      "text/plain": [
       "0.9415243101182654"
      ]
     },
     "execution_count": 51,
     "metadata": {},
     "output_type": "execute_result"
    }
   ],
   "source": [
    "from sklearn.ensemble import RandomForestClassifier\n",
    "clf1 = RandomForestClassifier(n_jobs=2, random_state=45)\n",
    "clf1.fit(data_train, targets_train)\n",
    "clf1.score(data_test, targets_test)"
   ]
  },
  {
   "cell_type": "code",
   "execution_count": 53,
   "metadata": {},
   "outputs": [
    {
     "name": "stdout",
     "output_type": "stream",
     "text": [
      "[[232  25   0]\n",
      " [  1 594   0]\n",
      " [  4  59 607]]\n",
      "              precision    recall  f1-score   support\n",
      "\n",
      "           0       0.98      0.90      0.94       257\n",
      "           1       0.88      1.00      0.93       595\n",
      "           2       1.00      0.91      0.95       670\n",
      "\n",
      "    accuracy                           0.94      1522\n",
      "   macro avg       0.95      0.94      0.94      1522\n",
      "weighted avg       0.95      0.94      0.94      1522\n",
      "\n",
      "0.9415243101182654\n"
     ]
    }
   ],
   "source": [
    "print(confusion_matrix(targets_test,predictions))\n",
    "print(classification_report(targets_test,predictions))\n",
    "print(accuracy_score(targets_test, predictions))"
   ]
  },
  {
   "cell_type": "code",
   "execution_count": 73,
   "metadata": {},
   "outputs": [
    {
     "data": {
      "text/plain": [
       "['RandomForest.pkl']"
      ]
     },
     "execution_count": 73,
     "metadata": {},
     "output_type": "execute_result"
    }
   ],
   "source": [
    "#Saving the model randomForest\n",
    "from sklearn import externals\n",
    "import joblib\n",
    "# Save the model as a pickle in a file \n",
    "joblib.dump(clf1, 'RandomForest.pkl') "
   ]
  },
  {
   "cell_type": "code",
   "execution_count": 74,
   "metadata": {},
   "outputs": [
    {
     "data": {
      "text/plain": [
       "array([1, 1, 1, ..., 0, 0, 2], dtype=int64)"
      ]
     },
     "execution_count": 74,
     "metadata": {},
     "output_type": "execute_result"
    }
   ],
   "source": [
    "# Load the model from the file \n",
    "knn_from_joblib = joblib.load('RandomForest.pkl')  \n",
    "  \n",
    "# Use the loaded model to make predictions \n",
    "knn_from_joblib.predict(data_test) "
   ]
  },
  {
   "cell_type": "code",
   "execution_count": 76,
   "metadata": {},
   "outputs": [
    {
     "data": {
      "text/plain": [
       "array([[0.07912968, 0.01720402, 0.9036663 ],\n",
       "       [0.02186644, 0.92710297, 0.05103059],\n",
       "       [0.14886994, 0.83164494, 0.01948512],\n",
       "       [0.02186644, 0.92710297, 0.05103059]])"
      ]
     },
     "execution_count": 76,
     "metadata": {},
     "output_type": "execute_result"
    }
   ],
   "source": [
    "sentences = count_vectorizer.transform([\n",
    "    \"its my pleasure to watch this movie\",\n",
    "    \"i love this teaser\",\n",
    "    \"yash is powerful star i love him\",\n",
    "    \"\"\n",
    "])\n",
    "clf.predict_proba(sentences)"
   ]
  },
  {
   "cell_type": "code",
   "execution_count": 77,
   "metadata": {},
   "outputs": [
    {
     "data": {
      "text/plain": [
       "array([[0.02186644, 0.92710297, 0.05103059]])"
      ]
     },
     "execution_count": 77,
     "metadata": {},
     "output_type": "execute_result"
    }
   ],
   "source": [
    "sentences = count_vectorizer.transform([\"not really liked it\"])\n",
    "clf.predict_proba(sentences)"
   ]
  },
  {
   "cell_type": "code",
   "execution_count": null,
   "metadata": {},
   "outputs": [],
   "source": [
    "predictions_on_test_data = clf.predict_proba(data_test)\n",
    "index = np.transpose(np.array([range(0,len(predictions_on_test_data))]))\n",
    "indexed_predictions = np.concatenate((predictions_on_test_data, index), axis=1).tolist()"
   ]
  },
  {
   "cell_type": "code",
   "execution_count": null,
   "metadata": {},
   "outputs": [],
   "source": []
  }
 ],
 "metadata": {
  "kernelspec": {
   "display_name": "Python 3",
   "language": "python",
   "name": "python3"
  },
  "language_info": {
   "codemirror_mode": {
    "name": "ipython",
    "version": 3
   },
   "file_extension": ".py",
   "mimetype": "text/x-python",
   "name": "python",
   "nbconvert_exporter": "python",
   "pygments_lexer": "ipython3",
   "version": "3.7.0"
  }
 },
 "nbformat": 4,
 "nbformat_minor": 4
}
