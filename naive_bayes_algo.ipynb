{
 "cells": [
  {
   "cell_type": "code",
   "execution_count": null,
   "metadata": {},
   "outputs": [],
   "source": [
    "########Reading data from Mongo#######\n",
    "from pyspark.sql import SparkSession\n",
    "import re\n",
    "from pyspark.sql import SparkSession\n",
    "from pyspark.sql.functions import *\n",
    "from pyspark.sql.types import *\n",
    "from pyspark.sql import functions as F\n",
    "\n",
    "# spark mongo connector\n",
    "spark = SparkSession.builder.master(\"local[*]\").config(\"spark.mongodb.input.uri\",\"mongodb://localhost:27017/twitter_db.Dummy\") .config(\"spark.mongodb.output.uri\",\"mongodb://locahost:27017/twitter_db.Dummy\").config(\"spark.jars.packages\",\"org.mongodb.spark:mongo-spark-connector_2.12:3.0.0\").getOrCreate()\n",
    "df = spark.read.format(\"mongo\").option(\"uri\",\"mongodb://localhost:27017/twitter_db.Dummy\").load()\n",
    "df.registerTempTable(\"Twitter\")\n",
    "#df.count()"
   ]
  },
  {
   "cell_type": "code",
   "execution_count": null,
   "metadata": {},
   "outputs": [],
   "source": [
    "\"\"\"\n",
    "# Cleaning Data\n",
    "sf_1=df.select(\"text\")\n",
    "words = sf_1.select(explode(split(df.text, \"t_end\")).alias(\"word\"))\n",
    "word=df.select(F.regexp_replace('text', r'http\\S+', '').alias(\"text\"))\n",
    "word=word.select(F.regexp_replace('text', '@\\w+', '').alias(\"text\"))\n",
    "word=word.select(F.regexp_replace('text', '#', '').alias(\"text\"))\n",
    "word=word.select(F.regexp_replace('text', 'RT', '').alias(\"text\"))\n",
    "word=word.select(F.regexp_replace('text', ':', '').alias(\"text\"))\n",
    "word.show(truncate=False)\n",
    "\"\"\""
   ]
  },
  {
   "cell_type": "code",
   "execution_count": null,
   "metadata": {},
   "outputs": [],
   "source": [
    "##########Feature Selection############\n",
    "\n",
    "# Selecting required columns\n",
    "# JSON file we take requried fileds using Spark SQL\n",
    "\n",
    "sf=df.select(explode(split(df.text, \"t_end\")).alias(\"text\"),\"created_at\",col(\"user.location\").alias(\"Location\"),\"retweet_count\",col(\"user.followers_count\").alias(\"User_followers\"),col(\"user.favourites_count\").alias(\"favourites_count\"),col(\"user.verified\").alias(\"Verified User\"),\"lang\")\n",
    "sf=sf.select(F.regexp_replace('text', r'http\\S+', '').alias(\"Text\"),\"created_at\",\"Location\",\"retweet_count\",\"favourites_count\",\"Verified User\",\"User_followers\",\"lang\")\n",
    "sf=sf.select(F.regexp_replace('Text', '@\\w+', '').alias(\"text\"),\"created_at\",\"Location\",\"retweet_count\",\"favourites_count\",\"Verified User\",\"User_followers\",\"lang\")\n",
    "sf=sf.select(F.regexp_replace('text', '#', '').alias(\"text\"),\"created_at\",\"Location\",\"retweet_count\",\"favourites_count\",\"Verified User\",\"User_followers\",\"lang\")\n",
    "sf=sf.select(F.regexp_replace('text', 'RT', '').alias(\"text\"),\"created_at\",\"Location\",\"retweet_count\",\"favourites_count\",\"Verified User\",\"User_followers\",\"lang\")\n",
    "sf=sf.select(F.regexp_replace('text', ':', '').alias(\"Text\"),from_unixtime(unix_timestamp('created_at', 'EEE MMM d HH:mm:ss z yyyy'),format=\"yyyy-MM-dd\").alias('date'),\"Location\",\"User_followers\",\"favourites_count\",\"retweet_count\",\"Verified User\")\n",
    "sf=sf.fillna({\"Location\": \"unknown\"})\n",
    "sf=sf.fillna({\"retweet_count\": 0})\n",
    "sf=sf.filter((col(\"lang\") == 'en'))\n",
    "\n",
    "sf.show()\n",
    "#sf.printSchema()\n",
    "#sf.show()\n",
    "#sf.withColumn('newDate',f.date_sub(\"created_at\",10)).show()\n",
    "#df.show(2)"
   ]
  },
  {
   "cell_type": "code",
   "execution_count": null,
   "metadata": {},
   "outputs": [],
   "source": [
    "#Counting total tweets\n",
    "#sf.where(col(\"retweet_count\").isin({\"0\"}))\n"
   ]
  },
  {
   "cell_type": "code",
   "execution_count": null,
   "metadata": {},
   "outputs": [],
   "source": [
    "############ Writing structured data into MongoDB ###########\n",
    "\n",
    "sf.write.format(\"mongo\").option(\"uri\",\"mongodb://localhost:27017/Sample2.Data\").mode(\"append\").save()"
   ]
  },
  {
   "cell_type": "code",
   "execution_count": 1,
   "metadata": {},
   "outputs": [],
   "source": [
    "import numpy as np # linear algebra\n",
    "import pandas as pd # data processing, CSV file I/O (e.g. pd.read_csv)\n",
    "\n",
    "import pymongo\n",
    "#import pandas as pd\n",
    "from pymongo import MongoClient\n",
    "# Input data files are available in the \"../input/\" directory.\n",
    "# For example, running this (by clicking run or pressing Shift+Enter) will list the files in the input directory\n",
    "\n",
    "from subprocess import check_output\n",
    "#print(check_output([\"ls\", \"../input\"]).decode(\"utf8\"))\n",
    "\n",
    "# Any results you write to the current directory are saved as output.\n",
    "#tweets=pd.read_csv(\"final.csv\",encoding = \"ISO-8859-1\")\n",
    "#tweets.head()"
   ]
  },
  {
   "cell_type": "code",
   "execution_count": 2,
   "metadata": {},
   "outputs": [
    {
     "name": "stdout",
     "output_type": "stream",
     "text": [
      "connect to mongoDB\n"
     ]
    }
   ],
   "source": [
    "connection = pymongo.MongoClient(\"localhost\",27017)\n",
    "db = connection[\"twtt\"]\n",
    "collection = db[\"tweets\"]\n",
    "print(\"connect to mongoDB\")\n",
    "tweets = pd.DataFrame(collection.find())\n",
    "#df.to_csv('file1.csv')\n"
   ]
  },
  {
   "cell_type": "code",
   "execution_count": 3,
   "metadata": {},
   "outputs": [
    {
     "data": {
      "text/html": [
       "<div>\n",
       "<style scoped>\n",
       "    .dataframe tbody tr th:only-of-type {\n",
       "        vertical-align: middle;\n",
       "    }\n",
       "\n",
       "    .dataframe tbody tr th {\n",
       "        vertical-align: top;\n",
       "    }\n",
       "\n",
       "    .dataframe thead th {\n",
       "        text-align: right;\n",
       "    }\n",
       "</style>\n",
       "<table border=\"1\" class=\"dataframe\">\n",
       "  <thead>\n",
       "    <tr style=\"text-align: right;\">\n",
       "      <th></th>\n",
       "      <th>_id</th>\n",
       "      <th>Text</th>\n",
       "      <th>date</th>\n",
       "      <th>Location</th>\n",
       "      <th>User_followers</th>\n",
       "      <th>favourites_count</th>\n",
       "      <th>retweet_count</th>\n",
       "      <th>Verified User</th>\n",
       "    </tr>\n",
       "  </thead>\n",
       "  <tbody>\n",
       "    <tr>\n",
       "      <th>0</th>\n",
       "      <td>6005372e28cba40ce364d0bc</td>\n",
       "      <td>Ajith Starrer Valimai Is Expected To Create ...</td>\n",
       "      <td>2021-01-14</td>\n",
       "      <td>Twitter</td>\n",
       "      <td>91</td>\n",
       "      <td>4154</td>\n",
       "      <td>0</td>\n",
       "      <td>False</td>\n",
       "    </tr>\n",
       "    <tr>\n",
       "      <th>1</th>\n",
       "      <td>6005372e28cba40ce364d0bd</td>\n",
       "      <td>Powerful edit</td>\n",
       "      <td>2021-01-14</td>\n",
       "      <td>Aurangabad, India</td>\n",
       "      <td>803</td>\n",
       "      <td>12989</td>\n",
       "      <td>0</td>\n",
       "      <td>False</td>\n",
       "    </tr>\n",
       "    <tr>\n",
       "      <th>2</th>\n",
       "      <td>6005372e28cba40ce364d0be</td>\n",
       "      <td>watch it 👀\\nplease like 👍, share and do subscr...</td>\n",
       "      <td>2021-01-14</td>\n",
       "      <td>Bengaluru, India</td>\n",
       "      <td>25</td>\n",
       "      <td>67</td>\n",
       "      <td>0</td>\n",
       "      <td>False</td>\n",
       "    </tr>\n",
       "    <tr>\n",
       "      <th>3</th>\n",
       "      <td>6005372e28cba40ce364d0bf</td>\n",
       "      <td>Cigarette scene Is  starrer KGF 2 in trouble? ...</td>\n",
       "      <td>2021-01-14</td>\n",
       "      <td>Mumbai, India</td>\n",
       "      <td>10124</td>\n",
       "      <td>9125</td>\n",
       "      <td>0</td>\n",
       "      <td>False</td>\n",
       "    </tr>\n",
       "    <tr>\n",
       "      <th>4</th>\n",
       "      <td>6005372e28cba40ce364d0c0</td>\n",
       "      <td>Then how can this be possible...\\n</td>\n",
       "      <td>2021-01-14</td>\n",
       "      <td>unknown</td>\n",
       "      <td>1404</td>\n",
       "      <td>17010</td>\n",
       "      <td>0</td>\n",
       "      <td>False</td>\n",
       "    </tr>\n",
       "  </tbody>\n",
       "</table>\n",
       "</div>"
      ],
      "text/plain": [
       "                        _id  \\\n",
       "0  6005372e28cba40ce364d0bc   \n",
       "1  6005372e28cba40ce364d0bd   \n",
       "2  6005372e28cba40ce364d0be   \n",
       "3  6005372e28cba40ce364d0bf   \n",
       "4  6005372e28cba40ce364d0c0   \n",
       "\n",
       "                                                Text        date  \\\n",
       "0    Ajith Starrer Valimai Is Expected To Create ...  2021-01-14   \n",
       "1                                      Powerful edit  2021-01-14   \n",
       "2  watch it 👀\\nplease like 👍, share and do subscr...  2021-01-14   \n",
       "3  Cigarette scene Is  starrer KGF 2 in trouble? ...  2021-01-14   \n",
       "4                 Then how can this be possible...\\n  2021-01-14   \n",
       "\n",
       "            Location  User_followers  favourites_count  retweet_count  \\\n",
       "0            Twitter              91              4154              0   \n",
       "1  Aurangabad, India             803             12989              0   \n",
       "2   Bengaluru, India              25                67              0   \n",
       "3      Mumbai, India           10124              9125              0   \n",
       "4            unknown            1404             17010              0   \n",
       "\n",
       "   Verified User  \n",
       "0          False  \n",
       "1          False  \n",
       "2          False  \n",
       "3          False  \n",
       "4          False  "
      ]
     },
     "execution_count": 3,
     "metadata": {},
     "output_type": "execute_result"
    }
   ],
   "source": [
    "#tweets=pd.read_csv(\"file1.csv\",encoding = \"ISO-8859-1\")\n",
    "\n",
    "tweets.head()\n"
   ]
  },
  {
   "cell_type": "code",
   "execution_count": 4,
   "metadata": {},
   "outputs": [
    {
     "data": {
      "text/html": [
       "<div>\n",
       "<style scoped>\n",
       "    .dataframe tbody tr th:only-of-type {\n",
       "        vertical-align: middle;\n",
       "    }\n",
       "\n",
       "    .dataframe tbody tr th {\n",
       "        vertical-align: top;\n",
       "    }\n",
       "\n",
       "    .dataframe thead th {\n",
       "        text-align: right;\n",
       "    }\n",
       "</style>\n",
       "<table border=\"1\" class=\"dataframe\">\n",
       "  <thead>\n",
       "    <tr style=\"text-align: right;\">\n",
       "      <th></th>\n",
       "      <th>_id</th>\n",
       "      <th>Text</th>\n",
       "      <th>date</th>\n",
       "      <th>Location</th>\n",
       "      <th>User_followers</th>\n",
       "      <th>favourites_count</th>\n",
       "      <th>retweet_count</th>\n",
       "      <th>Verified User</th>\n",
       "      <th>sentiment_compound_polarity</th>\n",
       "      <th>sentiment_neutral</th>\n",
       "      <th>sentiment_negative</th>\n",
       "      <th>sentiment_pos</th>\n",
       "      <th>sentiment_type</th>\n",
       "    </tr>\n",
       "  </thead>\n",
       "  <tbody>\n",
       "    <tr>\n",
       "      <th>0</th>\n",
       "      <td>6005372e28cba40ce364d0bc</td>\n",
       "      <td>Ajith Starrer Valimai Is Expected To Create ...</td>\n",
       "      <td>2021-01-14</td>\n",
       "      <td>Twitter</td>\n",
       "      <td>91</td>\n",
       "      <td>4154</td>\n",
       "      <td>0</td>\n",
       "      <td>False</td>\n",
       "      <td>0.8807</td>\n",
       "      <td>0.603</td>\n",
       "      <td>0.000</td>\n",
       "      <td>0.397</td>\n",
       "      <td>POSITIVE</td>\n",
       "    </tr>\n",
       "    <tr>\n",
       "      <th>1</th>\n",
       "      <td>6005372e28cba40ce364d0bd</td>\n",
       "      <td>Powerful edit</td>\n",
       "      <td>2021-01-14</td>\n",
       "      <td>Aurangabad, India</td>\n",
       "      <td>803</td>\n",
       "      <td>12989</td>\n",
       "      <td>0</td>\n",
       "      <td>False</td>\n",
       "      <td>0.4215</td>\n",
       "      <td>0.263</td>\n",
       "      <td>0.000</td>\n",
       "      <td>0.737</td>\n",
       "      <td>POSITIVE</td>\n",
       "    </tr>\n",
       "    <tr>\n",
       "      <th>2</th>\n",
       "      <td>6005372e28cba40ce364d0be</td>\n",
       "      <td>watch it 👀\\nplease like 👍, share and do subscr...</td>\n",
       "      <td>2021-01-14</td>\n",
       "      <td>Bengaluru, India</td>\n",
       "      <td>25</td>\n",
       "      <td>67</td>\n",
       "      <td>0</td>\n",
       "      <td>False</td>\n",
       "      <td>0.8542</td>\n",
       "      <td>0.556</td>\n",
       "      <td>0.000</td>\n",
       "      <td>0.444</td>\n",
       "      <td>POSITIVE</td>\n",
       "    </tr>\n",
       "    <tr>\n",
       "      <th>3</th>\n",
       "      <td>6005372e28cba40ce364d0bf</td>\n",
       "      <td>Cigarette scene Is  starrer KGF 2 in trouble? ...</td>\n",
       "      <td>2021-01-14</td>\n",
       "      <td>Mumbai, India</td>\n",
       "      <td>10124</td>\n",
       "      <td>9125</td>\n",
       "      <td>0</td>\n",
       "      <td>False</td>\n",
       "      <td>-0.4019</td>\n",
       "      <td>0.803</td>\n",
       "      <td>0.197</td>\n",
       "      <td>0.000</td>\n",
       "      <td>NEGATIVE</td>\n",
       "    </tr>\n",
       "    <tr>\n",
       "      <th>4</th>\n",
       "      <td>6005372e28cba40ce364d0c0</td>\n",
       "      <td>Then how can this be possible...\\n</td>\n",
       "      <td>2021-01-14</td>\n",
       "      <td>unknown</td>\n",
       "      <td>1404</td>\n",
       "      <td>17010</td>\n",
       "      <td>0</td>\n",
       "      <td>False</td>\n",
       "      <td>0.0000</td>\n",
       "      <td>1.000</td>\n",
       "      <td>0.000</td>\n",
       "      <td>0.000</td>\n",
       "      <td>NEUTRAL</td>\n",
       "    </tr>\n",
       "  </tbody>\n",
       "</table>\n",
       "</div>"
      ],
      "text/plain": [
       "                        _id  \\\n",
       "0  6005372e28cba40ce364d0bc   \n",
       "1  6005372e28cba40ce364d0bd   \n",
       "2  6005372e28cba40ce364d0be   \n",
       "3  6005372e28cba40ce364d0bf   \n",
       "4  6005372e28cba40ce364d0c0   \n",
       "\n",
       "                                                Text        date  \\\n",
       "0    Ajith Starrer Valimai Is Expected To Create ...  2021-01-14   \n",
       "1                                      Powerful edit  2021-01-14   \n",
       "2  watch it 👀\\nplease like 👍, share and do subscr...  2021-01-14   \n",
       "3  Cigarette scene Is  starrer KGF 2 in trouble? ...  2021-01-14   \n",
       "4                 Then how can this be possible...\\n  2021-01-14   \n",
       "\n",
       "            Location  User_followers  favourites_count  retweet_count  \\\n",
       "0            Twitter              91              4154              0   \n",
       "1  Aurangabad, India             803             12989              0   \n",
       "2   Bengaluru, India              25                67              0   \n",
       "3      Mumbai, India           10124              9125              0   \n",
       "4            unknown            1404             17010              0   \n",
       "\n",
       "   Verified User  sentiment_compound_polarity  sentiment_neutral  \\\n",
       "0          False                       0.8807              0.603   \n",
       "1          False                       0.4215              0.263   \n",
       "2          False                       0.8542              0.556   \n",
       "3          False                      -0.4019              0.803   \n",
       "4          False                       0.0000              1.000   \n",
       "\n",
       "   sentiment_negative  sentiment_pos sentiment_type  \n",
       "0               0.000          0.397       POSITIVE  \n",
       "1               0.000          0.737       POSITIVE  \n",
       "2               0.000          0.444       POSITIVE  \n",
       "3               0.197          0.000       NEGATIVE  \n",
       "4               0.000          0.000        NEUTRAL  "
      ]
     },
     "execution_count": 4,
     "metadata": {},
     "output_type": "execute_result"
    }
   ],
   "source": [
    "from nltk.sentiment.vader import SentimentIntensityAnalyzer\n",
    "from nltk.sentiment.util import *\n",
    "\n",
    "from nltk import tokenize\n",
    "\n",
    "sid = SentimentIntensityAnalyzer()\n",
    "\n",
    "tweets['sentiment_compound_polarity']=tweets.Text.apply(lambda x:sid.polarity_scores(x)['compound'])\n",
    "tweets['sentiment_neutral']=tweets.Text.apply(lambda x:sid.polarity_scores(x)['neu'])\n",
    "tweets['sentiment_negative']=tweets.Text.apply(lambda x:sid.polarity_scores(x)['neg'])\n",
    "tweets['sentiment_pos']=tweets.Text.apply(lambda x:sid.polarity_scores(x)['pos'])\n",
    "tweets['sentiment_type']=''\n",
    "tweets.loc[tweets.sentiment_compound_polarity>0,'sentiment_type']='POSITIVE'\n",
    "tweets.loc[tweets.sentiment_compound_polarity==0,'sentiment_type']='NEUTRAL'\n",
    "tweets.loc[tweets.sentiment_compound_polarity<0,'sentiment_type']='NEGATIVE'\n",
    "tweets.head()\n"
   ]
  },
  {
   "cell_type": "code",
   "execution_count": 5,
   "metadata": {},
   "outputs": [],
   "source": [
    "#tweets.save"
   ]
  },
  {
   "cell_type": "code",
   "execution_count": 5,
   "metadata": {},
   "outputs": [
    {
     "data": {
      "text/plain": [
       "<matplotlib.axes._subplots.AxesSubplot at 0x1ccc18c9608>"
      ]
     },
     "execution_count": 5,
     "metadata": {},
     "output_type": "execute_result"
    },
    {
     "data": {
      "image/png": "[encoded data removed]",
      "text/plain": [
       "<Figure size 432x288 with 1 Axes>"
      ]
     },
     "metadata": {
      "needs_background": "light"
     },
     "output_type": "display_data"
    }
   ],
   "source": [
    "tweets.sentiment_type.value_counts().plot(kind='bar',title=\"sentiment analysis\")"
   ]
  },
  {
   "cell_type": "code",
   "execution_count": null,
   "metadata": {},
   "outputs": [],
   "source": []
  },
  {
   "cell_type": "code",
   "execution_count": 6,
   "metadata": {},
   "outputs": [],
   "source": [
    "import re, nltk\n",
    "from nltk.stem import WordNetLemmatizer\n",
    "from nltk.corpus import stopwords\n",
    "stop_words = set(stopwords.words('english'))\n",
    "wordnet_lemmatizer = WordNetLemmatizer()\n",
    "import nltk\n",
    "\n",
    "#nltk.download('stopwords')\n",
    "\n",
    "def normalizer(tweet):\n",
    "    only_letters = re.sub(\"[^a-zA-Z]\", \" \",tweet) \n",
    "    tokens = nltk.word_tokenize(only_letters)[2:]\n",
    "    lower_case = [l.lower() for l in tokens]\n",
    "    filtered_result = list(filter(lambda l: l not in stop_words, lower_case))\n",
    "    lemmas = [wordnet_lemmatizer.lemmatize(t) for t in filtered_result]\n",
    "    return lemmas"
   ]
  },
  {
   "cell_type": "code",
   "execution_count": 7,
   "metadata": {},
   "outputs": [
    {
     "data": {
      "text/plain": [
       "['text', 'airline', 'like']"
      ]
     },
     "execution_count": 7,
     "metadata": {},
     "output_type": "execute_result"
    }
   ],
   "source": [
    "normalizer(\"Here is text about an airline I like.\")"
   ]
  },
  {
   "cell_type": "code",
   "execution_count": 8,
   "metadata": {},
   "outputs": [
    {
     "name": "stderr",
     "output_type": "stream",
     "text": [
      "C:\\Users\\Lucifer\\anaconda3\\lib\\site-packages\\ipykernel_launcher.py:1: FutureWarning: Passing a negative integer is deprecated in version 1.0 and will not be supported in future version. Instead, use None to not limit the column width.\n",
      "  \"\"\"Entry point for launching an IPython kernel.\n"
     ]
    },
    {
     "data": {
      "text/html": [
       "<div>\n",
       "<style scoped>\n",
       "    .dataframe tbody tr th:only-of-type {\n",
       "        vertical-align: middle;\n",
       "    }\n",
       "\n",
       "    .dataframe tbody tr th {\n",
       "        vertical-align: top;\n",
       "    }\n",
       "\n",
       "    .dataframe thead th {\n",
       "        text-align: right;\n",
       "    }\n",
       "</style>\n",
       "<table border=\"1\" class=\"dataframe\">\n",
       "  <thead>\n",
       "    <tr style=\"text-align: right;\">\n",
       "      <th></th>\n",
       "      <th>Text</th>\n",
       "      <th>normalized_tweet</th>\n",
       "    </tr>\n",
       "  </thead>\n",
       "  <tbody>\n",
       "    <tr>\n",
       "      <th>0</th>\n",
       "      <td>Ajith Starrer Valimai Is Expected To Create The Same Impact That Kgf Created All Over India.\\n\\nVinoth Is Super Confident. T…</td>\n",
       "      <td>[valimai, expected, create, impact, kgf, created, india, vinoth, super, confident]</td>\n",
       "    </tr>\n",
       "    <tr>\n",
       "      <th>1</th>\n",
       "      <td>Powerful edit</td>\n",
       "      <td>[]</td>\n",
       "    </tr>\n",
       "    <tr>\n",
       "      <th>2</th>\n",
       "      <td>watch it 👀\\nplease like 👍, share and do subscribe for more videos YouTube Friends BestFriend KicchaSudeep KGF…</td>\n",
       "      <td>[please, like, share, subscribe, video, youtube, friend, bestfriend, kicchasudeep, kgf]</td>\n",
       "    </tr>\n",
       "    <tr>\n",
       "      <th>3</th>\n",
       "      <td>Cigarette scene Is  starrer KGF 2 in trouble? Follow Us on \\n\\n KGF2 KGF2cigarettescene…</td>\n",
       "      <td>[starrer, kgf, trouble, follow, u, kgf, kgf, cigarettescene]</td>\n",
       "    </tr>\n",
       "    <tr>\n",
       "      <th>4</th>\n",
       "      <td>Then how can this be possible...\\n</td>\n",
       "      <td>[possible]</td>\n",
       "    </tr>\n",
       "  </tbody>\n",
       "</table>\n",
       "</div>"
      ],
      "text/plain": [
       "                                                                                                                              Text  \\\n",
       "0    Ajith Starrer Valimai Is Expected To Create The Same Impact That Kgf Created All Over India.\\n\\nVinoth Is Super Confident. T…   \n",
       "1    Powerful edit                                                                                                                   \n",
       "2  watch it 👀\\nplease like 👍, share and do subscribe for more videos YouTube Friends BestFriend KicchaSudeep KGF…                    \n",
       "3  Cigarette scene Is  starrer KGF 2 in trouble? Follow Us on \\n\\n KGF2 KGF2cigarettescene…                                          \n",
       "4   Then how can this be possible...\\n                                                                                               \n",
       "\n",
       "                                                                          normalized_tweet  \n",
       "0  [valimai, expected, create, impact, kgf, created, india, vinoth, super, confident]       \n",
       "1  []                                                                                       \n",
       "2  [please, like, share, subscribe, video, youtube, friend, bestfriend, kicchasudeep, kgf]  \n",
       "3  [starrer, kgf, trouble, follow, u, kgf, kgf, cigarettescene]                             \n",
       "4  [possible]                                                                               "
      ]
     },
     "execution_count": 8,
     "metadata": {},
     "output_type": "execute_result"
    }
   ],
   "source": [
    "pd.set_option('display.max_colwidth', -1) # Setting this so we can see the full content of cells\n",
    "tweets['normalized_tweet'] = tweets.Text.apply(normalizer)\n",
    "tweets[['Text','normalized_tweet']].head()"
   ]
  },
  {
   "cell_type": "code",
   "execution_count": 9,
   "metadata": {},
   "outputs": [
    {
     "data": {
      "text/html": [
       "<div>\n",
       "<style scoped>\n",
       "    .dataframe tbody tr th:only-of-type {\n",
       "        vertical-align: middle;\n",
       "    }\n",
       "\n",
       "    .dataframe tbody tr th {\n",
       "        vertical-align: top;\n",
       "    }\n",
       "\n",
       "    .dataframe thead th {\n",
       "        text-align: right;\n",
       "    }\n",
       "</style>\n",
       "<table border=\"1\" class=\"dataframe\">\n",
       "  <thead>\n",
       "    <tr style=\"text-align: right;\">\n",
       "      <th></th>\n",
       "      <th>_id</th>\n",
       "      <th>Text</th>\n",
       "      <th>date</th>\n",
       "      <th>Location</th>\n",
       "      <th>User_followers</th>\n",
       "      <th>favourites_count</th>\n",
       "      <th>retweet_count</th>\n",
       "      <th>Verified User</th>\n",
       "      <th>sentiment_compound_polarity</th>\n",
       "      <th>sentiment_neutral</th>\n",
       "      <th>sentiment_negative</th>\n",
       "      <th>sentiment_pos</th>\n",
       "      <th>sentiment_type</th>\n",
       "      <th>normalized_tweet</th>\n",
       "    </tr>\n",
       "  </thead>\n",
       "  <tbody>\n",
       "    <tr>\n",
       "      <th>0</th>\n",
       "      <td>6005372e28cba40ce364d0bc</td>\n",
       "      <td>Ajith Starrer Valimai Is Expected To Create The Same Impact That Kgf Created All Over India.\\n\\nVinoth Is Super Confident. T…</td>\n",
       "      <td>2021-01-14</td>\n",
       "      <td>Twitter</td>\n",
       "      <td>91</td>\n",
       "      <td>4154</td>\n",
       "      <td>0</td>\n",
       "      <td>False</td>\n",
       "      <td>0.8807</td>\n",
       "      <td>0.603</td>\n",
       "      <td>0.000</td>\n",
       "      <td>0.397</td>\n",
       "      <td>POSITIVE</td>\n",
       "      <td>[valimai, expected, create, impact, kgf, created, india, vinoth, super, confident]</td>\n",
       "    </tr>\n",
       "    <tr>\n",
       "      <th>1</th>\n",
       "      <td>6005372e28cba40ce364d0bd</td>\n",
       "      <td>Powerful edit</td>\n",
       "      <td>2021-01-14</td>\n",
       "      <td>Aurangabad, India</td>\n",
       "      <td>803</td>\n",
       "      <td>12989</td>\n",
       "      <td>0</td>\n",
       "      <td>False</td>\n",
       "      <td>0.4215</td>\n",
       "      <td>0.263</td>\n",
       "      <td>0.000</td>\n",
       "      <td>0.737</td>\n",
       "      <td>POSITIVE</td>\n",
       "      <td>[]</td>\n",
       "    </tr>\n",
       "    <tr>\n",
       "      <th>2</th>\n",
       "      <td>6005372e28cba40ce364d0be</td>\n",
       "      <td>watch it 👀\\nplease like 👍, share and do subscribe for more videos YouTube Friends BestFriend KicchaSudeep KGF…</td>\n",
       "      <td>2021-01-14</td>\n",
       "      <td>Bengaluru, India</td>\n",
       "      <td>25</td>\n",
       "      <td>67</td>\n",
       "      <td>0</td>\n",
       "      <td>False</td>\n",
       "      <td>0.8542</td>\n",
       "      <td>0.556</td>\n",
       "      <td>0.000</td>\n",
       "      <td>0.444</td>\n",
       "      <td>POSITIVE</td>\n",
       "      <td>[please, like, share, subscribe, video, youtube, friend, bestfriend, kicchasudeep, kgf]</td>\n",
       "    </tr>\n",
       "    <tr>\n",
       "      <th>3</th>\n",
       "      <td>6005372e28cba40ce364d0bf</td>\n",
       "      <td>Cigarette scene Is  starrer KGF 2 in trouble? Follow Us on \\n\\n KGF2 KGF2cigarettescene…</td>\n",
       "      <td>2021-01-14</td>\n",
       "      <td>Mumbai, India</td>\n",
       "      <td>10124</td>\n",
       "      <td>9125</td>\n",
       "      <td>0</td>\n",
       "      <td>False</td>\n",
       "      <td>-0.4019</td>\n",
       "      <td>0.803</td>\n",
       "      <td>0.197</td>\n",
       "      <td>0.000</td>\n",
       "      <td>NEGATIVE</td>\n",
       "      <td>[starrer, kgf, trouble, follow, u, kgf, kgf, cigarettescene]</td>\n",
       "    </tr>\n",
       "    <tr>\n",
       "      <th>4</th>\n",
       "      <td>6005372e28cba40ce364d0c0</td>\n",
       "      <td>Then how can this be possible...\\n</td>\n",
       "      <td>2021-01-14</td>\n",
       "      <td>unknown</td>\n",
       "      <td>1404</td>\n",
       "      <td>17010</td>\n",
       "      <td>0</td>\n",
       "      <td>False</td>\n",
       "      <td>0.0000</td>\n",
       "      <td>1.000</td>\n",
       "      <td>0.000</td>\n",
       "      <td>0.000</td>\n",
       "      <td>NEUTRAL</td>\n",
       "      <td>[possible]</td>\n",
       "    </tr>\n",
       "    <tr>\n",
       "      <th>...</th>\n",
       "      <td>...</td>\n",
       "      <td>...</td>\n",
       "      <td>...</td>\n",
       "      <td>...</td>\n",
       "      <td>...</td>\n",
       "      <td>...</td>\n",
       "      <td>...</td>\n",
       "      <td>...</td>\n",
       "      <td>...</td>\n",
       "      <td>...</td>\n",
       "      <td>...</td>\n",
       "      <td>...</td>\n",
       "      <td>...</td>\n",
       "      <td>...</td>\n",
       "    </tr>\n",
       "    <tr>\n",
       "      <th>3800</th>\n",
       "      <td>6005372e28cba40ce364df94</td>\n",
       "      <td>Monday 10Am \\nSomething posting Be Ready Guys\\n🔥😊😊\\nKGFChapter2 KGF \\nYash</td>\n",
       "      <td>2021-01-16</td>\n",
       "      <td>unknown</td>\n",
       "      <td>19</td>\n",
       "      <td>4169</td>\n",
       "      <td>0</td>\n",
       "      <td>False</td>\n",
       "      <td>0.3612</td>\n",
       "      <td>0.800</td>\n",
       "      <td>0.000</td>\n",
       "      <td>0.200</td>\n",
       "      <td>POSITIVE</td>\n",
       "      <td>[something, posting, ready, guy, kgfchapter, kgf, yash]</td>\n",
       "    </tr>\n",
       "    <tr>\n",
       "      <th>3801</th>\n",
       "      <td>6005372e28cba40ce364df95</td>\n",
       "      <td>OMG! 😱🤩 kgf2  Star Yash   🤩 and Baahubali  in ONE frame!!! 🔥🔥\\n\\nthevocalnews\\n\\nKGF star Yash joins Baahubali fame…</td>\n",
       "      <td>2021-01-16</td>\n",
       "      <td>unknown</td>\n",
       "      <td>3</td>\n",
       "      <td>1</td>\n",
       "      <td>0</td>\n",
       "      <td>False</td>\n",
       "      <td>0.0000</td>\n",
       "      <td>1.000</td>\n",
       "      <td>0.000</td>\n",
       "      <td>0.000</td>\n",
       "      <td>NEUTRAL</td>\n",
       "      <td>[star, yash, baahubali, one, frame, thevocalnews, kgf, star, yash, join, baahubali, fame]</td>\n",
       "    </tr>\n",
       "    <tr>\n",
       "      <th>3802</th>\n",
       "      <td>6005372e28cba40ce364df96</td>\n",
       "      <td>\"When Pan Indian films like Master, KGF, Baahubali comes all state distributors will cooperate\" \\n\\n\"Even though this i…</td>\n",
       "      <td>2021-01-16</td>\n",
       "      <td>unknown</td>\n",
       "      <td>117</td>\n",
       "      <td>30222</td>\n",
       "      <td>0</td>\n",
       "      <td>False</td>\n",
       "      <td>0.3612</td>\n",
       "      <td>0.872</td>\n",
       "      <td>0.000</td>\n",
       "      <td>0.128</td>\n",
       "      <td>POSITIVE</td>\n",
       "      <td>[indian, film, like, master, kgf, baahubali, come, state, distributor, cooperate, even, though]</td>\n",
       "    </tr>\n",
       "    <tr>\n",
       "      <th>3803</th>\n",
       "      <td>6005372e28cba40ce364df97</td>\n",
       "      <td>BAHUBALI 2 trailer 11 cr views in 3 YEARS RRR 3.8 cr in 3 MONTHS  and KGF 2 14 cr in 3 DAYS.. OUCHH! This is a STOMACH PUNCH…</td>\n",
       "      <td>2021-01-16</td>\n",
       "      <td>unknown</td>\n",
       "      <td>0</td>\n",
       "      <td>11</td>\n",
       "      <td>0</td>\n",
       "      <td>False</td>\n",
       "      <td>0.0000</td>\n",
       "      <td>1.000</td>\n",
       "      <td>0.000</td>\n",
       "      <td>0.000</td>\n",
       "      <td>NEUTRAL</td>\n",
       "      <td>[cr, view, year, rrr, cr, month, kgf, cr, day, ouchh, stomach, punch]</td>\n",
       "    </tr>\n",
       "    <tr>\n",
       "      <th>3804</th>\n",
       "      <td>6005372e28cba40ce364df98</td>\n",
       "      <td>Frames of Prabhas and Rocking Star  at Salaar launch ❤️\\n\\nSalaarSagaBegins 💥\\n\\n  Y…</td>\n",
       "      <td>2021-01-16</td>\n",
       "      <td>unknown</td>\n",
       "      <td>223</td>\n",
       "      <td>75433</td>\n",
       "      <td>0</td>\n",
       "      <td>False</td>\n",
       "      <td>0.0000</td>\n",
       "      <td>1.000</td>\n",
       "      <td>0.000</td>\n",
       "      <td>0.000</td>\n",
       "      <td>NEUTRAL</td>\n",
       "      <td>[prabhas, rocking, star, salaar, launch, salaarsagabegins]</td>\n",
       "    </tr>\n",
       "  </tbody>\n",
       "</table>\n",
       "<p>3805 rows × 14 columns</p>\n",
       "</div>"
      ],
      "text/plain": [
       "                           _id  \\\n",
       "0     6005372e28cba40ce364d0bc   \n",
       "1     6005372e28cba40ce364d0bd   \n",
       "2     6005372e28cba40ce364d0be   \n",
       "3     6005372e28cba40ce364d0bf   \n",
       "4     6005372e28cba40ce364d0c0   \n",
       "...                        ...   \n",
       "3800  6005372e28cba40ce364df94   \n",
       "3801  6005372e28cba40ce364df95   \n",
       "3802  6005372e28cba40ce364df96   \n",
       "3803  6005372e28cba40ce364df97   \n",
       "3804  6005372e28cba40ce364df98   \n",
       "\n",
       "                                                                                                                                 Text  \\\n",
       "0       Ajith Starrer Valimai Is Expected To Create The Same Impact That Kgf Created All Over India.\\n\\nVinoth Is Super Confident. T…   \n",
       "1       Powerful edit                                                                                                                   \n",
       "2     watch it 👀\\nplease like 👍, share and do subscribe for more videos YouTube Friends BestFriend KicchaSudeep KGF…                    \n",
       "3     Cigarette scene Is  starrer KGF 2 in trouble? Follow Us on \\n\\n KGF2 KGF2cigarettescene…                                          \n",
       "4      Then how can this be possible...\\n                                                                                               \n",
       "...                                   ...                                                                                               \n",
       "3800    Monday 10Am \\nSomething posting Be Ready Guys\\n🔥😊😊\\nKGFChapter2 KGF \\nYash                                                      \n",
       "3801  OMG! 😱🤩 kgf2  Star Yash   🤩 and Baahubali  in ONE frame!!! 🔥🔥\\n\\nthevocalnews\\n\\nKGF star Yash joins Baahubali fame…              \n",
       "3802    \"When Pan Indian films like Master, KGF, Baahubali comes all state distributors will cooperate\" \\n\\n\"Even though this i…        \n",
       "3803    BAHUBALI 2 trailer 11 cr views in 3 YEARS RRR 3.8 cr in 3 MONTHS  and KGF 2 14 cr in 3 DAYS.. OUCHH! This is a STOMACH PUNCH…   \n",
       "3804    Frames of Prabhas and Rocking Star  at Salaar launch ❤️\\n\\nSalaarSagaBegins 💥\\n\\n  Y…                                           \n",
       "\n",
       "            date           Location  User_followers  favourites_count  \\\n",
       "0     2021-01-14  Twitter            91              4154               \n",
       "1     2021-01-14  Aurangabad, India  803             12989              \n",
       "2     2021-01-14  Bengaluru, India   25              67                 \n",
       "3     2021-01-14  Mumbai, India      10124           9125               \n",
       "4     2021-01-14  unknown            1404            17010              \n",
       "...          ...      ...             ...              ...              \n",
       "3800  2021-01-16  unknown            19              4169               \n",
       "3801  2021-01-16  unknown            3               1                  \n",
       "3802  2021-01-16  unknown            117             30222              \n",
       "3803  2021-01-16  unknown            0               11                 \n",
       "3804  2021-01-16  unknown            223             75433              \n",
       "\n",
       "      retweet_count  Verified User  sentiment_compound_polarity  \\\n",
       "0     0              False          0.8807                        \n",
       "1     0              False          0.4215                        \n",
       "2     0              False          0.8542                        \n",
       "3     0              False         -0.4019                        \n",
       "4     0              False          0.0000                        \n",
       "...  ..                ...             ...                        \n",
       "3800  0              False          0.3612                        \n",
       "3801  0              False          0.0000                        \n",
       "3802  0              False          0.3612                        \n",
       "3803  0              False          0.0000                        \n",
       "3804  0              False          0.0000                        \n",
       "\n",
       "      sentiment_neutral  sentiment_negative  sentiment_pos sentiment_type  \\\n",
       "0     0.603              0.000               0.397          POSITIVE        \n",
       "1     0.263              0.000               0.737          POSITIVE        \n",
       "2     0.556              0.000               0.444          POSITIVE        \n",
       "3     0.803              0.197               0.000          NEGATIVE        \n",
       "4     1.000              0.000               0.000          NEUTRAL         \n",
       "...     ...                ...                 ...              ...         \n",
       "3800  0.800              0.000               0.200          POSITIVE        \n",
       "3801  1.000              0.000               0.000          NEUTRAL         \n",
       "3802  0.872              0.000               0.128          POSITIVE        \n",
       "3803  1.000              0.000               0.000          NEUTRAL         \n",
       "3804  1.000              0.000               0.000          NEUTRAL         \n",
       "\n",
       "                                                                                     normalized_tweet  \n",
       "0     [valimai, expected, create, impact, kgf, created, india, vinoth, super, confident]               \n",
       "1     []                                                                                               \n",
       "2     [please, like, share, subscribe, video, youtube, friend, bestfriend, kicchasudeep, kgf]          \n",
       "3     [starrer, kgf, trouble, follow, u, kgf, kgf, cigarettescene]                                     \n",
       "4     [possible]                                                                                       \n",
       "...          ...                                                                                       \n",
       "3800  [something, posting, ready, guy, kgfchapter, kgf, yash]                                          \n",
       "3801  [star, yash, baahubali, one, frame, thevocalnews, kgf, star, yash, join, baahubali, fame]        \n",
       "3802  [indian, film, like, master, kgf, baahubali, come, state, distributor, cooperate, even, though]  \n",
       "3803  [cr, view, year, rrr, cr, month, kgf, cr, day, ouchh, stomach, punch]                            \n",
       "3804  [prabhas, rocking, star, salaar, launch, salaarsagabegins]                                       \n",
       "\n",
       "[3805 rows x 14 columns]"
      ]
     },
     "execution_count": 9,
     "metadata": {},
     "output_type": "execute_result"
    }
   ],
   "source": [
    "tweets"
   ]
  },
  {
   "cell_type": "code",
   "execution_count": 10,
   "metadata": {},
   "outputs": [
    {
     "data": {
      "text/html": [
       "<div>\n",
       "<style scoped>\n",
       "    .dataframe tbody tr th:only-of-type {\n",
       "        vertical-align: middle;\n",
       "    }\n",
       "\n",
       "    .dataframe tbody tr th {\n",
       "        vertical-align: top;\n",
       "    }\n",
       "\n",
       "    .dataframe thead th {\n",
       "        text-align: right;\n",
       "    }\n",
       "</style>\n",
       "<table border=\"1\" class=\"dataframe\">\n",
       "  <thead>\n",
       "    <tr style=\"text-align: right;\">\n",
       "      <th></th>\n",
       "      <th>grams</th>\n",
       "    </tr>\n",
       "  </thead>\n",
       "  <tbody>\n",
       "    <tr>\n",
       "      <th>0</th>\n",
       "      <td>[valimai expected, expected create, create impact, impact kgf, kgf created, created india, india vinoth, vinoth super, super confident, valimai expected create, expected create impact, create impact kgf, impact kgf created, kgf created india, created india vinoth, india vinoth super, vinoth super confident]</td>\n",
       "    </tr>\n",
       "    <tr>\n",
       "      <th>1</th>\n",
       "      <td>[]</td>\n",
       "    </tr>\n",
       "    <tr>\n",
       "      <th>2</th>\n",
       "      <td>[please like, like share, share subscribe, subscribe video, video youtube, youtube friend, friend bestfriend, bestfriend kicchasudeep, kicchasudeep kgf, please like share, like share subscribe, share subscribe video, subscribe video youtube, video youtube friend, youtube friend bestfriend, friend bestfriend kicchasudeep, bestfriend kicchasudeep kgf]</td>\n",
       "    </tr>\n",
       "    <tr>\n",
       "      <th>3</th>\n",
       "      <td>[starrer kgf, kgf trouble, trouble follow, follow u, u kgf, kgf kgf, kgf cigarettescene, starrer kgf trouble, kgf trouble follow, trouble follow u, follow u kgf, u kgf kgf, kgf kgf cigarettescene]</td>\n",
       "    </tr>\n",
       "    <tr>\n",
       "      <th>4</th>\n",
       "      <td>[]</td>\n",
       "    </tr>\n",
       "  </tbody>\n",
       "</table>\n",
       "</div>"
      ],
      "text/plain": [
       "                                                                                                                                                                                                                                                                                                                                                             grams\n",
       "0  [valimai expected, expected create, create impact, impact kgf, kgf created, created india, india vinoth, vinoth super, super confident, valimai expected create, expected create impact, create impact kgf, impact kgf created, kgf created india, created india vinoth, india vinoth super, vinoth super confident]                                           \n",
       "1  []                                                                                                                                                                                                                                                                                                                                                             \n",
       "2  [please like, like share, share subscribe, subscribe video, video youtube, youtube friend, friend bestfriend, bestfriend kicchasudeep, kicchasudeep kgf, please like share, like share subscribe, share subscribe video, subscribe video youtube, video youtube friend, youtube friend bestfriend, friend bestfriend kicchasudeep, bestfriend kicchasudeep kgf]\n",
       "3  [starrer kgf, kgf trouble, trouble follow, follow u, u kgf, kgf kgf, kgf cigarettescene, starrer kgf trouble, kgf trouble follow, trouble follow u, follow u kgf, u kgf kgf, kgf kgf cigarettescene]                                                                                                                                                           \n",
       "4  []                                                                                                                                                                                                                                                                                                                                                             "
      ]
     },
     "execution_count": 10,
     "metadata": {},
     "output_type": "execute_result"
    }
   ],
   "source": [
    "from nltk import ngrams\n",
    "def ngrams(input_list):\n",
    "    #onegrams = input_list\n",
    "    bigrams = [' '.join(t) for t in list(zip(input_list, input_list[1:]))]\n",
    "    trigrams = [' '.join(t) for t in list(zip(input_list, input_list[1:], input_list[2:]))]\n",
    "    return bigrams+trigrams\n",
    "tweets['grams'] = tweets.normalized_tweet.apply(ngrams)\n",
    "tweets[['grams']].head()"
   ]
  },
  {
   "cell_type": "code",
   "execution_count": 11,
   "metadata": {},
   "outputs": [],
   "source": [
    "import collections\n",
    "def count_words(input):\n",
    "    cnt = collections.Counter()\n",
    "    for row in input:\n",
    "        for word in row:\n",
    "            cnt[word] += 1\n",
    "    return cnt"
   ]
  },
  {
   "cell_type": "code",
   "execution_count": 12,
   "metadata": {},
   "outputs": [
    {
     "data": {
      "text/plain": [
       "[('rocking star', 280),\n",
       " ('star yash', 278),\n",
       " ('kgf rocking', 277),\n",
       " ('yash rebel', 277),\n",
       " ('rebel star', 277),\n",
       " ('star prabhas', 277),\n",
       " ('prabhas movie', 277),\n",
       " ('movie launch', 277),\n",
       " ('launch salaar', 277),\n",
       " ('salaar salaar', 277),\n",
       " ('salaar prabhas', 277),\n",
       " ('kgf rocking star', 277),\n",
       " ('rocking star yash', 277),\n",
       " ('star yash rebel', 277),\n",
       " ('yash rebel star', 277),\n",
       " ('rebel star prabhas', 277),\n",
       " ('star prabhas movie', 277),\n",
       " ('prabhas movie launch', 277),\n",
       " ('movie launch salaar', 277),\n",
       " ('launch salaar salaar', 277)]"
      ]
     },
     "execution_count": 12,
     "metadata": {},
     "output_type": "execute_result"
    }
   ],
   "source": [
    "import numpy as np\n",
    "tweets[(tweets.sentiment_type == 'NEGATIVE')][['grams']].apply(count_words)['grams'].most_common(20)"
   ]
  },
  {
   "cell_type": "code",
   "execution_count": 13,
   "metadata": {},
   "outputs": [
    {
     "data": {
      "text/plain": [
       "[('prabhas salaarlaunch', 492),\n",
       " ('yash arrives', 470),\n",
       " ('fame yash', 455),\n",
       " ('arrives hyderabad', 454),\n",
       " ('hyderabad attend', 454),\n",
       " ('attend prabhas', 454),\n",
       " ('salaarlaunch event', 454),\n",
       " ('event salaar', 454),\n",
       " ('salaar salaarsagabegins', 454),\n",
       " ('fame yash arrives', 454),\n",
       " ('yash arrives hyderabad', 454),\n",
       " ('arrives hyderabad attend', 454),\n",
       " ('hyderabad attend prabhas', 454),\n",
       " ('attend prabhas salaarlaunch', 454),\n",
       " ('prabhas salaarlaunch event', 454),\n",
       " ('salaarlaunch event salaar', 454),\n",
       " ('event salaar salaarsagabegins', 454),\n",
       " ('salaarsagabegins salaarlaun', 452),\n",
       " ('salaar salaarsagabegins salaarlaun', 452),\n",
       " ('biggest franchise', 234)]"
      ]
     },
     "execution_count": 13,
     "metadata": {},
     "output_type": "execute_result"
    }
   ],
   "source": [
    "tweets[(tweets.sentiment_type == 'POSITIVE')][['grams']].apply(count_words)['grams'].most_common(20)"
   ]
  },
  {
   "cell_type": "code",
   "execution_count": 14,
   "metadata": {},
   "outputs": [],
   "source": [
    "import numpy as np\n",
    "from scipy.sparse import hstack\n",
    "from sklearn.feature_extraction.text import CountVectorizer\n",
    "count_vectorizer = CountVectorizer(ngram_range=(1,2))"
   ]
  },
  {
   "cell_type": "code",
   "execution_count": 15,
   "metadata": {},
   "outputs": [],
   "source": [
    "vectorized_data = count_vectorizer.fit_transform(tweets.Text)\n",
    "indexed_data = hstack((np.array(range(0,vectorized_data.shape[0]))[:,None], vectorized_data))"
   ]
  },
  {
   "cell_type": "code",
   "execution_count": 16,
   "metadata": {},
   "outputs": [],
   "source": [
    "def sentiment2target(sentiment):\n",
    "    return {\n",
    "        'NEGATIVE': 0,\n",
    "        'NEUTRAL': 1,\n",
    "        'POSITIVE' : 2\n",
    "    }[sentiment]\n",
    "targets = tweets.sentiment_type.apply(sentiment2target)"
   ]
  },
  {
   "cell_type": "code",
   "execution_count": 83,
   "metadata": {},
   "outputs": [],
   "source": [
    "from sklearn.model_selection import train_test_split\n",
    "data_train, data_test, targets_train, targets_test = train_test_split(indexed_data, targets, test_size=0.3, random_state=0)\n",
    "data_train_index = data_train[:,0]\n",
    "data_train = data_train[:,1:]\n",
    "data_test_index = data_test[:,0]\n",
    "data_test = data_test[:,1:]"
   ]
  },
  {
   "cell_type": "code",
   "execution_count": 85,
   "metadata": {},
   "outputs": [],
   "source": [
    "from sklearn.naive_bayes import MultinomialNB\n",
    "clf = MultinomialNB()\n",
    "clf_output=clf.fit(data_train,targets_train)\n"
   ]
  },
  {
   "cell_type": "code",
   "execution_count": 101,
   "metadata": {},
   "outputs": [
    {
     "data": {
      "text/plain": [
       "0.9238178633975481"
      ]
     },
     "execution_count": 101,
     "metadata": {},
     "output_type": "execute_result"
    }
   ],
   "source": [
    "clf.score(data_test, targets_test)"
   ]
  },
  {
   "cell_type": "code",
   "execution_count": 87,
   "metadata": {},
   "outputs": [
    {
     "data": {
      "text/plain": [
       "array([[4.21834810e-04, 2.77931923e-04, 9.99300233e-01],\n",
       "       [3.56240051e-04, 3.47502633e-05, 9.99609010e-01],\n",
       "       [3.63067829e-04, 2.65262443e-02, 9.73110688e-01],\n",
       "       [2.17142923e-01, 7.20189065e-04, 7.82136888e-01],\n",
       "       [4.76311771e-03, 3.71285739e-03, 9.91524025e-01],\n",
       "       [2.30194314e-03, 2.67543332e-02, 9.70943724e-01],\n",
       "       [1.69357867e-01, 4.00300413e-01, 4.30341720e-01]])"
      ]
     },
     "execution_count": 87,
     "metadata": {},
     "output_type": "execute_result"
    }
   ],
   "source": [
    "sentences = count_vectorizer.transform([\n",
    "    \"What a great airline, the trip was a pleasure!\",\n",
    "    \"My issue was quickly resolved after calling customer support. Thanks!\",\n",
    "    \"What the hell! My flight was cancelled again. This sucks!\",\n",
    "    \"Service was awful. I'll never fly with you again.\",\n",
    "    \"You fuckers lost my luggage. Never again!\",\n",
    "    \"I have mixed feelings about airlines. I don't know what I think.\",\n",
    "    \"\"\n",
    "])\n",
    "clf.predict_proba(sentences)"
   ]
  },
  {
   "cell_type": "code",
   "execution_count": 88,
   "metadata": {},
   "outputs": [],
   "source": [
    "predictions_on_test_data = clf.predict_proba(data_test)\n",
    "index = np.transpose(np.array([range(0,len(predictions_on_test_data))]))\n",
    "indexed_predictions = np.concatenate((predictions_on_test_data, index), axis=1).tolist()"
   ]
  },
  {
   "cell_type": "code",
   "execution_count": 89,
   "metadata": {},
   "outputs": [
    {
     "data": {
      "text/plain": [
       "['       … ',\n",
       " '       … ',\n",
       " '          …',\n",
       " '       … ',\n",
       " '       … ',\n",
       " '       … ',\n",
       " '          …',\n",
       " \"  But the kgf didn't come before bahubali  sir and RRR isn't a matter to anyone… \",\n",
       " '  Rowdy boy × Rocky bhai🔥\\n\\n👀) \\n      \\n\\nArjunReddy KGF\\nVijayDeverakonda Yash\\n\\nKGFChapt…',\n",
       " '  What credibility or source of success like KGF can you quote that Sudeep can fetch big s… ']"
      ]
     },
     "execution_count": 89,
     "metadata": {},
     "output_type": "execute_result"
    }
   ],
   "source": [
    "def marginal(p):\n",
    "    top2 = p.argsort()[::-1]\n",
    "    return abs(p[top2[0]]-p[top2[1]])\n",
    "margin = sorted(list(map(lambda p : [marginal(np.array(p[0:3])),p[3]], indexed_predictions)), key=lambda p : p[0])\n",
    "list(map(lambda p : tweets.iloc[data_test_index[int(p[1])].toarray()[0][0]].Text, margin[0:10]))"
   ]
  },
  {
   "cell_type": "code",
   "execution_count": 90,
   "metadata": {},
   "outputs": [
    {
     "data": {
      "text/plain": [
       "[array([0.16935787, 0.40030041, 0.43034172]),\n",
       " array([0.16935787, 0.40030041, 0.43034172]),\n",
       " array([0.16935787, 0.40030041, 0.43034172]),\n",
       " array([0.16935787, 0.40030041, 0.43034172]),\n",
       " array([0.16935787, 0.40030041, 0.43034172]),\n",
       " array([0.16935787, 0.40030041, 0.43034172]),\n",
       " array([0.16935787, 0.40030041, 0.43034172]),\n",
       " array([0.48065542, 0.51599084, 0.00335374]),\n",
       " array([0.47816771, 0.51659206, 0.00524023]),\n",
       " array([5.19236358e-01, 2.23554440e-09, 4.80763640e-01])]"
      ]
     },
     "execution_count": 90,
     "metadata": {},
     "output_type": "execute_result"
    }
   ],
   "source": [
    "list(map(lambda p : predictions_on_test_data[int(p[1])], margin[0:10]))"
   ]
  },
  {
   "cell_type": "code",
   "execution_count": 91,
   "metadata": {},
   "outputs": [
    {
     "data": {
      "text/plain": [
       "['  VIDEO KGF Fame Yash Arrives In Hyderabad To Attend Prabhas’ SalaarLaunch Event\\n\\nSalaar SalaarSagaBegins SalaarLaun…',\n",
       " '  BAHUBALI 2 trailer 11 cr views in 3 YEARS RRR 3.8 cr in 3 MONTHS  and KGF 2 14 cr in 3 DAYS.. OUCHH! This is a STOMACH PUNCH…',\n",
       " '  VIDEO KGF Fame Yash Arrives In Hyderabad To Attend Prabhas’ SalaarLaunch Event\\n\\nSalaar SalaarSagaBegins SalaarLaun…',\n",
       " '  VIDEO KGF Fame Yash Arrives In Hyderabad To Attend Prabhas’ SalaarLaunch Event\\n\\nSalaar SalaarSagaBegins SalaarLaun…',\n",
       " '  Bahubali meets KGF...\\nRocking star Yash with Rebel star Prabhas at movie launch of Salaar \\n\\nSalaar Prabhas RebelStar …',\n",
       " '  VIDEO KGF Fame Yash Arrives In Hyderabad To Attend Prabhas’ SalaarLaunch Event\\n\\nSalaar SalaarSagaBegins SalaarLaun…',\n",
       " 'whole world enjoying KGF chapter 2 teaser\\n\\nBut this shit 💩finding physics in teaser  lowda rathee \\n\\nNe… ',\n",
       " '  BAHUBALI 2 trailer 11 cr views in 3 YEARS RRR 3.8 cr in 3 MONTHS  and KGF 2 14 cr in 3 DAYS.. OUCHH! This is a STOMACH PUNCH…',\n",
       " '  VIDEO KGF Fame Yash Arrives In Hyderabad To Attend Prabhas’ SalaarLaunch Event\\n\\nSalaar SalaarSagaBegins SalaarLaun…',\n",
       " 'One more Pic is here Retweet Max \\nThe wait is Over To Darling Fans SalaarSaagaBegins SalaarLaunch \\n… ']"
      ]
     },
     "execution_count": 91,
     "metadata": {},
     "output_type": "execute_result"
    }
   ],
   "source": [
    "list(map(lambda p : tweets.iloc[data_test_index[int(p[1])].toarray()[0][0]].Text, margin[-10:]))"
   ]
  },
  {
   "cell_type": "code",
   "execution_count": 92,
   "metadata": {},
   "outputs": [
    {
     "data": {
      "text/plain": [
       "[array([3.92446588e-52, 1.15061356e-50, 1.00000000e+00]),\n",
       " array([1.25645289e-91, 1.00000000e+00, 1.07235091e-99]),\n",
       " array([3.92446588e-52, 1.15061356e-50, 1.00000000e+00]),\n",
       " array([3.92446588e-52, 1.15061356e-50, 1.00000000e+00]),\n",
       " array([1.00000000e+00, 3.92606562e-55, 1.33791114e-56]),\n",
       " array([3.92446588e-52, 1.15061356e-50, 1.00000000e+00]),\n",
       " array([1.00000000e+00, 2.02200886e-24, 1.35152114e-22]),\n",
       " array([1.25645289e-91, 1.00000000e+00, 1.07235091e-99]),\n",
       " array([3.92446588e-52, 1.15061356e-50, 1.00000000e+00]),\n",
       " array([2.58756607e-26, 1.34069740e-27, 1.00000000e+00])]"
      ]
     },
     "execution_count": 92,
     "metadata": {},
     "output_type": "execute_result"
    }
   ],
   "source": [
    "list(map(lambda p : predictions_on_test_data[int(p[1])], margin[-10:]))"
   ]
  },
  {
   "cell_type": "code",
   "execution_count": 93,
   "metadata": {},
   "outputs": [
    {
     "data": {
      "image/png": "[encoded data removed]",
      "text/plain": [
       "<Figure size 432x288 with 1 Axes>"
      ]
     },
     "metadata": {
      "needs_background": "light"
     },
     "output_type": "display_data"
    }
   ],
   "source": [
    "import matplotlib.pyplot as plt\n",
    "marginal_probs = list(map(lambda p : p[0], margin))\n",
    "n, bins, patches = plt.hist(marginal_probs, 25, facecolor='blue', alpha=0.75)\n",
    "plt.title('Marginal confidence histogram - All data')\n",
    "plt.ylabel('Count')\n",
    "plt.xlabel('Marginal confidence')\n",
    "plt.show()"
   ]
  },
  {
   "cell_type": "code",
   "execution_count": 94,
   "metadata": {},
   "outputs": [
    {
     "data": {
      "image/png": "[encoded data removed]",
      "text/plain": [
       "<Figure size 432x288 with 1 Axes>"
      ]
     },
     "metadata": {
      "needs_background": "light"
     },
     "output_type": "display_data"
    }
   ],
   "source": [
    "positive_test_data = list(filter(lambda row : row[0]==2, hstack((targets_test[:,None], data_test)).toarray()))\n",
    "positive_probs = clf.predict_proba(list(map(lambda r : r[1:], positive_test_data)))\n",
    "marginal_positive_probs = list(map(lambda p : marginal(p), positive_probs))\n",
    "n, bins, patches = plt.hist(marginal_positive_probs, 25, facecolor='green', alpha=0.75)\n",
    "plt.title('Marginal confidence histogram - Positive data')\n",
    "plt.ylabel('Count')\n",
    "plt.xlabel('Marginal confidence')\n",
    "plt.show()"
   ]
  },
  {
   "cell_type": "code",
   "execution_count": 95,
   "metadata": {},
   "outputs": [
    {
     "data": {
      "image/png": "[encoded data removed]",
      "text/plain": [
       "<Figure size 432x288 with 1 Axes>"
      ]
     },
     "metadata": {
      "needs_background": "light"
     },
     "output_type": "display_data"
    }
   ],
   "source": [
    "positive_test_data = list(filter(lambda row : row[0]==1, hstack((targets_test[:,None], data_test)).toarray()))\n",
    "positive_probs = clf.predict_proba(list(map(lambda r : r[1:], positive_test_data)))\n",
    "marginal_positive_probs = list(map(lambda p : marginal(p), positive_probs))\n",
    "n, bins, patches = plt.hist(marginal_positive_probs, 25, facecolor='blue', alpha=0.75)\n",
    "plt.title('Marginal confidence histogram - Neutral data')\n",
    "plt.ylabel('Count')\n",
    "plt.xlabel('Marginal confidence')\n",
    "plt.show()"
   ]
  },
  {
   "cell_type": "code",
   "execution_count": 96,
   "metadata": {},
   "outputs": [
    {
     "data": {
      "image/png": "[encoded data removed]",
      "text/plain": [
       "<Figure size 432x288 with 1 Axes>"
      ]
     },
     "metadata": {
      "needs_background": "light"
     },
     "output_type": "display_data"
    }
   ],
   "source": [
    "negative_test_data = list(filter(lambda row : row[0]==0, hstack((targets_test[:,None], data_test)).toarray()))\n",
    "negative_probs = clf.predict_proba(list(map(lambda r : r[1:], negative_test_data)))\n",
    "marginal_negative_probs = list(map(lambda p : marginal(p), negative_probs))\n",
    "n, bins, patches = plt.hist(marginal_negative_probs, 25, facecolor='red', alpha=0.75)\n",
    "plt.title('Marginal confidence histogram - Negative data')\n",
    "plt.ylabel('Count')\n",
    "plt.xlabel('Marginal confidence')\n",
    "plt.show()"
   ]
  },
  {
   "cell_type": "code",
   "execution_count": 97,
   "metadata": {},
   "outputs": [
    {
     "data": {
      "text/plain": [
       "(2663, 7437)"
      ]
     },
     "execution_count": 97,
     "metadata": {},
     "output_type": "execute_result"
    }
   ],
   "source": [
    "data_train.shape"
   ]
  },
  {
   "cell_type": "code",
   "execution_count": 98,
   "metadata": {},
   "outputs": [
    {
     "data": {
      "text/plain": [
       "(1142, 1)"
      ]
     },
     "execution_count": 98,
     "metadata": {},
     "output_type": "execute_result"
    }
   ],
   "source": [
    "data_test_index.shape"
   ]
  },
  {
   "cell_type": "code",
   "execution_count": 99,
   "metadata": {},
   "outputs": [
    {
     "data": {
      "text/plain": [
       "(1142, 7437)"
      ]
     },
     "execution_count": 99,
     "metadata": {},
     "output_type": "execute_result"
    }
   ],
   "source": [
    "data_test.shape"
   ]
  },
  {
   "cell_type": "code",
   "execution_count": 100,
   "metadata": {},
   "outputs": [
    {
     "data": {
      "text/plain": [
       "(2663, 1)"
      ]
     },
     "execution_count": 100,
     "metadata": {},
     "output_type": "execute_result"
    }
   ],
   "source": [
    "data_train_index.shape"
   ]
  },
  {
   "cell_type": "code",
   "execution_count": null,
   "metadata": {},
   "outputs": [],
   "source": []
  },
  {
   "cell_type": "code",
   "execution_count": null,
   "metadata": {},
   "outputs": [],
   "source": []
  }
 ],
 "metadata": {
  "kernelspec": {
   "display_name": "Python 3",
   "language": "python",
   "name": "python3"
  },
  "language_info": {
   "codemirror_mode": {
    "name": "ipython",
    "version": 3
   },
   "file_extension": ".py",
   "mimetype": "text/x-python",
   "name": "python",
   "nbconvert_exporter": "python",
   "pygments_lexer": "ipython3",
   "version": "3.7.6"
  }
 },
 "nbformat": 4,
 "nbformat_minor": 4
}
