{
 "cells": [
  {
   "cell_type": "code",
   "execution_count": 37,
   "metadata": {},
   "outputs": [],
   "source": [
    "########Reading data from Mongo#######\n",
    "from pyspark.sql import SparkSession\n",
    "import re\n",
    "from pyspark.sql import SparkSession\n",
    "from pyspark.sql.functions import *\n",
    "from pyspark.sql.types import *\n",
    "from pyspark.sql import functions as F\n",
    "\n",
    "spark = SparkSession.builder.master(\"local[*]\").config(\"spark.mongodb.input.uri\",\"mongodb://localhost:27017/twitter_db.Dummy\").config(\"spark.mongodb.output.uri\",\"mongodb://locahost:27017/twitter_db.Dummy\").config(\"spark.jars.packages\",\"org.mongodb.spark:mongo-spark-connector_2.12:3.0.0\").getOrCreate()\n",
    "df = spark.read.format(\"mongo\").option(\"uri\",\"mongodb://localhost:27017/twitter_db.Dummy\").load()\n",
    "df.registerTempTable(\"Twitter\")\n",
    "#df.count()"
   ]
  },
  {
   "cell_type": "code",
   "execution_count": null,
   "metadata": {},
   "outputs": [],
   "source": [
    "sf_1=df.select(\"text\")\n",
    "words = sf_1.select(explode(split(df.text, \"t_end\")).alias(\"word\"))\n",
    "word=df.select(F.regexp_replace('text', r'http\\S+', '').alias(\"text\"))\n",
    "word=word.select(F.regexp_replace('text', '@\\w+', '').alias(\"text\"))\n",
    "word=word.select(F.regexp_replace('text', '#', '').alias(\"text\"))\n",
    "word=word.select(F.regexp_replace('text', 'RT', '').alias(\"text\"))\n",
    "word=word.select(F.regexp_replace('text', ':', '').alias(\"text\"))\n",
    "word.show(truncate=False)"
   ]
  },
  {
   "cell_type": "code",
   "execution_count": 99,
   "metadata": {},
   "outputs": [
    {
     "name": "stdout",
     "output_type": "stream",
     "text": [
      "+--------------------+----------+--------------------+--------------+----------------+-------------+-------------+\n",
      "|                Text|      date|            Location|User_followers|favourites_count|retweet_count|Verified User|\n",
      "+--------------------+----------+--------------------+--------------+----------------+-------------+-------------+\n",
      "|  Ajith Starrer V...|2021-01-14|             Twitter|            91|            4154|            0|        false|\n",
      "|       Powerful edit|2021-01-14|   Aurangabad, India|           803|           12989|            0|        false|\n",
      "|watch it 👀\n",
      "pleas...|2021-01-14|    Bengaluru, India|            25|              67|            0|        false|\n",
      "|Cigarette scene I...|2021-01-14|       Mumbai, India|         10124|            9125|            0|        false|\n",
      "| Then how can thi...|2021-01-14|             unknown|          1404|           17010|            0|        false|\n",
      "|  Shah Rukh Khan ...|2021-01-14|              india |          2947|          202669|            0|        false|\n",
      "|  Prabhas's Salaa...|2021-01-14|    Karnataka, India|           146|           45167|            0|        false|\n",
      "|  To all those bl...|2021-01-14|           Singapore|           292|            8329|            0|        false|\n",
      "|  POWERFUL PEOPLE...|2021-01-14|             unknown|             0|             808|            0|        false|\n",
      "|  KGF 2 To Heropa...|2021-01-14|             unknown|            67|            5720|            0|        false|\n",
      "|my first reaction...|2021-01-14|        Latur, India|             2|              60|            0|        false|\n",
      "|  POWERFUL PEOPLE...|2021-01-14|    Hyderabad, India|            47|             300|            0|        false|\n",
      "|  KGF 2 To Heropa...|2021-01-14|Uttar Pradesh, India|           155|           15872|            0|        false|\n",
      "|SalaarLauch trend...|2021-01-14|              Mumbai|        718447|             473|            0|         true|\n",
      "|news world uae Pr...|2021-01-14|Dubai, United Ara...|          1738|              15|            0|         true|\n",
      "|  SALAAR  The rig...|2021-01-14|             unknown|            11|             403|            0|        false|\n",
      "| This &amp; KGF -...|2021-01-14|              Mumbai|           293|            6481|            0|        false|\n",
      "|    I think kgf 1...|2021-01-14|Somewhere On Mars...|           857|           20283|            0|        false|\n",
      "|NowPlaying KGF - ...|2021-01-14|       United States|           254|              34|            0|        false|\n",
      "|  Shah Rukh Khan ...|2021-01-14|             unknown|          1671|           30467|            0|        false|\n",
      "+--------------------+----------+--------------------+--------------+----------------+-------------+-------------+\n",
      "only showing top 20 rows\n",
      "\n"
     ]
    }
   ],
   "source": [
    "##########Feature Selection############\n",
    "#import langdetect import detect_\n",
    "\n",
    "#Selecting required columns\n",
    "\n",
    "sf=df.select(explode(split(df.text, \"t_end\")).alias(\"text\"),\"created_at\",col(\"user.location\").alias(\"Location\"),\"retweet_count\",col(\"user.followers_count\").alias(\"User_followers\"),col(\"user.favourites_count\").alias(\"favourites_count\"),col(\"user.verified\").alias(\"Verified User\"),\"lang\")\n",
    "sf=sf.select(F.regexp_replace('text', r'http\\S+', '').alias(\"Text\"),\"created_at\",\"Location\",\"retweet_count\",\"favourites_count\",\"Verified User\",\"User_followers\",\"lang\")\n",
    "sf=sf.select(F.regexp_replace('Text', '@\\w+', '').alias(\"text\"),\"created_at\",\"Location\",\"retweet_count\",\"favourites_count\",\"Verified User\",\"User_followers\",\"lang\")\n",
    "sf=sf.select(F.regexp_replace('text', '#', '').alias(\"text\"),\"created_at\",\"Location\",\"retweet_count\",\"favourites_count\",\"Verified User\",\"User_followers\",\"lang\")\n",
    "sf=sf.select(F.regexp_replace('text', 'RT', '').alias(\"text\"),\"created_at\",\"Location\",\"retweet_count\",\"favourites_count\",\"Verified User\",\"User_followers\",\"lang\")\n",
    "sf=sf.select(F.regexp_replace('text', ':', '').alias(\"Text\"),from_unixtime(unix_timestamp('created_at', 'EEE MMM d HH:mm:ss z yyyy'),format=\"yyyy-MM-dd\").alias('date'),\"Location\",\"User_followers\",\"favourites_count\",\"retweet_count\",\"Verified User\")\n",
    "sf=sf.fillna({\"Location\": \"unknown\"})\n",
    "sf=sf.fillna({\"retweet_count\": 0})\n",
    "sf=sf.filter((col(\"lang\") == 'en'))\n",
    "\n",
    "sf.show()\n",
    "#af.printSchema()\n",
    "#af.show()\n",
    "#sf.withColumn('newDate',f.date_sub(\"created_at\",10)).show()\n",
    "#df.show(2)"
   ]
  },
  {
   "cell_type": "code",
   "execution_count": 53,
   "metadata": {},
   "outputs": [
    {
     "data": {
      "text/plain": [
       "DataFrame[Text: string, date: string, location: string, retweet_count: int, verified: boolean]"
      ]
     },
     "execution_count": 53,
     "metadata": {},
     "output_type": "execute_result"
    }
   ],
   "source": [
    "#Counting total tweets\n",
    "af.where(col(\"retweet_count\").isin({\"0\"}))"
   ]
  },
  {
   "cell_type": "code",
   "execution_count": 100,
   "metadata": {},
   "outputs": [],
   "source": [
    "############Writing structured data into Mongo###########\n",
    "sf.write.format(\"mongo\").option(\"uri\",\"mongodb://localhost:27017/Sample2.Data\").mode(\"append\").save()"
   ]
  }
 ],
 "metadata": {
  "kernelspec": {
   "display_name": "Python 3",
   "language": "python",
   "name": "python3"
  },
  "language_info": {
   "codemirror_mode": {
    "name": "ipython",
    "version": 3
   },
   "file_extension": ".py",
   "mimetype": "text/x-python",
   "name": "python",
   "nbconvert_exporter": "python",
   "pygments_lexer": "ipython3",
   "version": "3.7.6"
  }
 },
 "nbformat": 4,
 "nbformat_minor": 4
}
